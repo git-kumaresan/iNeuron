{
 "cells": [
  {
   "cell_type": "markdown",
   "id": "a0a5d0ed",
   "metadata": {},
   "source": [
    "Assignment_3"
   ]
  },
  {
   "cell_type": "markdown",
   "id": "54d4b20f",
   "metadata": {},
   "source": [
    "1. Why are functions advantageous to have in your programs?\n",
    "\n",
    "Ans:\n",
    "\n",
    "    Functions are advantageous since we don not require to write the codes again and again (eliminates duplicate codes).\n",
    "    Saving time on coding when single concept has to be used multiple times (contineous usage over and again).\n",
    "    It is easy to understand the code.\n",
    "    Reduced chances of typo and/or indentation errors while coding.\n"
   ]
  },
  {
   "cell_type": "markdown",
   "id": "d9e24acc",
   "metadata": {},
   "source": [
    "\n",
    "2. When does the code in a function run: when it's specified or when it's called?\n",
    "\n",
    "Ans:\n",
    "    All codes inside a function will be executed /run only when it is called. when function is specified, it won't run codes. \n",
    "      "
   ]
  },
  {
   "cell_type": "markdown",
   "id": "3ed7b532",
   "metadata": {},
   "source": [
    "\n",
    "3. What statement creates a function?\n",
    "\n",
    "Ans:\n",
    "    a function can be created as per below,\n",
    "    the keyword 'def' and function name followed by paranthesis() and ends with colon ':' , input parameters can be fit inside ().\n",
    "    The intended block has to be provided with 'return' statement.\n",
    "    \n",
    "    e.g, as below"
   ]
  },
  {
   "cell_type": "code",
   "execution_count": 2,
   "id": "7aba5d96",
   "metadata": {},
   "outputs": [],
   "source": [
    "def test_function(x):\n",
    "    x2 = x*2\n",
    "    return x2"
   ]
  },
  {
   "cell_type": "code",
   "execution_count": 3,
   "id": "35743ad5",
   "metadata": {},
   "outputs": [
    {
     "data": {
      "text/plain": [
       "10"
      ]
     },
     "execution_count": 3,
     "metadata": {},
     "output_type": "execute_result"
    }
   ],
   "source": [
    "test_function(5)"
   ]
  },
  {
   "cell_type": "markdown",
   "id": "db59e19e",
   "metadata": {},
   "source": [
    "\n",
    "4. What is the difference between a function and a function call?\n",
    "\n",
    "Ans:\n",
    "    a function is block of code that used to perform particular operation. \n",
    "    A function call is the action of calling the deined function to execute the codes inside function.\n",
    "    e.g., as below"
   ]
  },
  {
   "cell_type": "code",
   "execution_count": null,
   "id": "6dbda2e5",
   "metadata": {},
   "outputs": [],
   "source": [
    "def test_function(x): #function\n",
    "    x2 = x*2\n",
    "    return x2"
   ]
  },
  {
   "cell_type": "code",
   "execution_count": 4,
   "id": "2c5fa40f",
   "metadata": {},
   "outputs": [
    {
     "data": {
      "text/plain": [
       "20"
      ]
     },
     "execution_count": 4,
     "metadata": {},
     "output_type": "execute_result"
    }
   ],
   "source": [
    "test_function(10) #function call"
   ]
  },
  {
   "cell_type": "markdown",
   "id": "64a58683",
   "metadata": {},
   "source": [
    "5. How many global scopes are there in a Python program? How many local scopes?\n",
    "\n",
    "Ans:\n",
    "    The number of global scopes and local scopes in python varies based on the function to function.\n",
    "    Local scopes are used inside the function() while global scopes are used globaly in program.\n",
    "    "
   ]
  },
  {
   "cell_type": "markdown",
   "id": "4ed56151",
   "metadata": {},
   "source": [
    "\n",
    "6. What happens to variables in a local scope when the function call returns?\n",
    "\n",
    "Ans:\n",
    "    When a function call returns, the variables in local scope are destroyed, the values of variables are undefined.\n",
    "    \n",
    "    "
   ]
  },
  {
   "cell_type": "markdown",
   "id": "cc286ea9",
   "metadata": {},
   "source": [
    "\n",
    "7. What is the concept of a return value? Is it possible to have a return value in an expression?\n",
    "\n",
    "Ans:\n",
    "    In python function, the keyword 'return' is used to return the result from the local scope of a function.\n",
    "    Yes it is possible to return the value in an expression.\n",
    "    "
   ]
  },
  {
   "cell_type": "markdown",
   "id": "1c4d312d",
   "metadata": {},
   "source": [
    "\n",
    "8. If a function does not have a return statement, what is the return value of a call to that function?\n",
    "\n",
    "Ans:\n",
    "    The return value of a function is 'None' when it doesn't have a return satement inside function.\n",
    "    \n",
    "    "
   ]
  },
  {
   "cell_type": "markdown",
   "id": "d8ddcd98",
   "metadata": {},
   "source": [
    "\n",
    "9. How do you make a function variable refer to the global variable?\n",
    "\n",
    "Ans:\n",
    "    The keyword 'global' has to be given inside the function, in order to make a function variable refer to global variable.\n",
    "   \n",
    "   "
   ]
  },
  {
   "cell_type": "markdown",
   "id": "52e499ce",
   "metadata": {},
   "source": [
    "10. What is the data type of None?\n",
    "\n",
    "Ans:\n",
    "    Datatype of 'None' is 'NoneType' which mean null in python program. "
   ]
  },
  {
   "cell_type": "code",
   "execution_count": 6,
   "id": "803941f5",
   "metadata": {},
   "outputs": [
    {
     "data": {
      "text/plain": [
       "NoneType"
      ]
     },
     "execution_count": 6,
     "metadata": {},
     "output_type": "execute_result"
    }
   ],
   "source": [
    "x = None\n",
    "type(x)"
   ]
  },
  {
   "cell_type": "markdown",
   "id": "6c13fdf9",
   "metadata": {},
   "source": [
    "\n",
    "11. What does the sentence import areallyourpetsnamederic do?\n",
    "\n",
    "Ans:\n",
    "\n",
    "    the statement would import the module named 'areallyourpetsnamederic' to the program.\n",
    "    \n",
    "    "
   ]
  },
  {
   "cell_type": "markdown",
   "id": "1753c231",
   "metadata": {},
   "source": [
    "\n",
    "12. If you had a bacon() feature in a spam module, what would you call it after importing spam?\n",
    "\n",
    "Ans:\n",
    "    This function can be called with spam.bacon().\n"
   ]
  },
  {
   "cell_type": "markdown",
   "id": "d060402d",
   "metadata": {},
   "source": [
    "\n",
    "13. What can you do to save a programme from crashing if it encounters an error?\n",
    "\n",
    "Ans:\n"
   ]
  },
  {
   "cell_type": "code",
   "execution_count": null,
   "id": "9acf58d3",
   "metadata": {},
   "outputs": [],
   "source": []
  },
  {
   "cell_type": "markdown",
   "id": "e3b2537e",
   "metadata": {},
   "source": [
    "\n",
    "14. What is the purpose of the try clause? What is the purpose of the except clause?\n",
    "\n",
    "Ans: NA\n",
    "    "
   ]
  }
 ],
 "metadata": {
  "kernelspec": {
   "display_name": "Python 3 (ipykernel)",
   "language": "python",
   "name": "python3"
  },
  "language_info": {
   "codemirror_mode": {
    "name": "ipython",
    "version": 3
   },
   "file_extension": ".py",
   "mimetype": "text/x-python",
   "name": "python",
   "nbconvert_exporter": "python",
   "pygments_lexer": "ipython3",
   "version": "3.9.12"
  }
 },
 "nbformat": 4,
 "nbformat_minor": 5
}

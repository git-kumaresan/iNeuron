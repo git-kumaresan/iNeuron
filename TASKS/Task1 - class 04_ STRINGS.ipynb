{
 "cells": [
  {
   "cell_type": "markdown",
   "id": "733bf968",
   "metadata": {},
   "source": [
    "### Python String operations - TASK "
   ]
  },
  {
   "cell_type": "code",
   "execution_count": null,
   "id": "f6701688",
   "metadata": {},
   "outputs": [],
   "source": [
    "\n",
    "s= \"this is My First Python programming class and i am learNING python string and its function\"\n",
    "1.Try to extraxt data from index one to index 300 with a jump of 3\n",
    "2.try to reverse a string without using reverse function.\n",
    "3.Try to split a string after conversion of entire string in uppercase.\n",
    "4.try to convert the whole string into lower class.\n",
    "5.try to capitalize the whole string\n",
    "6.Write a diference between isalnum() and isalpha()\n",
    "7. try to give an example of expand tab\n",
    "8. Give an example of strip, lstrip and rstrip\n",
    "9.replace a string character by another character by taking your example.\n",
    "\"sudhanshu\"\n",
    "10. try to give a defination of string center function with an example.\n",
    "11. write your own definition of compiler adn interpretor without copy paste from internet in your own language.\n",
    "12. Python is a interpreted of compiled laguage give a clear ans with your understanding.\n",
    "13.try to write a usecase of python with your understanding.\n",
    " \n"
   ]
  },
  {
   "cell_type": "code",
   "execution_count": 2,
   "id": "54112df9",
   "metadata": {},
   "outputs": [],
   "source": [
    "s= \"this is My First Python programming class and i am learNING python string and its function\""
   ]
  },
  {
   "cell_type": "markdown",
   "id": "147bb4d8",
   "metadata": {},
   "source": [
    "**Qestions**  \n",
    "    **1.Try to extraxt data from index one to index 300 with a jump of 3**"
   ]
  },
  {
   "cell_type": "code",
   "execution_count": 3,
   "id": "a494414d",
   "metadata": {},
   "outputs": [
    {
     "data": {
      "text/plain": [
       "'h   r tnrrmglsnimeNGyosi dtfco'"
      ]
     },
     "execution_count": 3,
     "metadata": {},
     "output_type": "execute_result"
    }
   ],
   "source": [
    "s[1:300:3]"
   ]
  },
  {
   "cell_type": "markdown",
   "id": "4532de75",
   "metadata": {},
   "source": [
    "**2.try to reverse a string without using reverse function.**  "
   ]
  },
  {
   "cell_type": "code",
   "execution_count": 5,
   "id": "bdaad3fc",
   "metadata": {},
   "outputs": [
    {
     "data": {
      "text/plain": [
       "'noitcnuf sti dna gnirts nohtyp GNINrael ma i dna ssalc gnimmargorp nohtyP tsriF yM si siht'"
      ]
     },
     "execution_count": 5,
     "metadata": {},
     "output_type": "execute_result"
    }
   ],
   "source": [
    "s[::-1]"
   ]
  },
  {
   "cell_type": "markdown",
   "id": "54db5a39",
   "metadata": {},
   "source": [
    "**3.Try to split a string after conversion of entire string in uppercase.**"
   ]
  },
  {
   "cell_type": "code",
   "execution_count": 12,
   "id": "c20a5e5d",
   "metadata": {},
   "outputs": [
    {
     "data": {
      "text/plain": [
       "['THIS',\n",
       " 'IS',\n",
       " 'MY',\n",
       " 'FIRST',\n",
       " 'PYTHON',\n",
       " 'PROGRAMMING',\n",
       " 'CLASS',\n",
       " 'AND',\n",
       " 'I',\n",
       " 'AM',\n",
       " 'LEARNING',\n",
       " 'PYTHON',\n",
       " 'STRING',\n",
       " 'AND',\n",
       " 'ITS',\n",
       " 'FUNCTION']"
      ]
     },
     "execution_count": 12,
     "metadata": {},
     "output_type": "execute_result"
    }
   ],
   "source": [
    "su = s.upper()\n",
    "su.split()"
   ]
  },
  {
   "cell_type": "markdown",
   "id": "c07381f3",
   "metadata": {},
   "source": [
    "**4.try to convert the whole string into lower class.**"
   ]
  },
  {
   "cell_type": "code",
   "execution_count": 14,
   "id": "744c525d",
   "metadata": {},
   "outputs": [
    {
     "data": {
      "text/plain": [
       "'this is my first python programming class and i am learning python string and its function'"
      ]
     },
     "execution_count": 14,
     "metadata": {},
     "output_type": "execute_result"
    }
   ],
   "source": [
    "s.lower()"
   ]
  },
  {
   "cell_type": "markdown",
   "id": "b9df85e4",
   "metadata": {},
   "source": [
    "**5.try to capitalize the whole string**"
   ]
  },
  {
   "cell_type": "code",
   "execution_count": 16,
   "id": "1378d505",
   "metadata": {},
   "outputs": [
    {
     "data": {
      "text/plain": [
       "'This is my first python programming class and i am learning python string and its function'"
      ]
     },
     "execution_count": 16,
     "metadata": {},
     "output_type": "execute_result"
    }
   ],
   "source": [
    "s.capitalize()"
   ]
  },
  {
   "cell_type": "markdown",
   "id": "394df11b",
   "metadata": {},
   "source": [
    "**6.Write a diference between isalnum() and isalpha()**"
   ]
  },
  {
   "cell_type": "code",
   "execution_count": 17,
   "id": "95a2f4a4",
   "metadata": {},
   "outputs": [
    {
     "data": {
      "text/plain": [
       "False"
      ]
     },
     "execution_count": 17,
     "metadata": {},
     "output_type": "execute_result"
    }
   ],
   "source": [
    "s.isalnum()"
   ]
  },
  {
   "cell_type": "code",
   "execution_count": 18,
   "id": "4b9ecc71",
   "metadata": {},
   "outputs": [
    {
     "data": {
      "text/plain": [
       "False"
      ]
     },
     "execution_count": 18,
     "metadata": {},
     "output_type": "execute_result"
    }
   ],
   "source": [
    "s.isalpha()"
   ]
  },
  {
   "cell_type": "code",
   "execution_count": 19,
   "id": "33c662b9",
   "metadata": {},
   "outputs": [],
   "source": [
    "kumar = 'k'"
   ]
  },
  {
   "cell_type": "code",
   "execution_count": 20,
   "id": "1a65f77e",
   "metadata": {},
   "outputs": [
    {
     "data": {
      "text/plain": [
       "True"
      ]
     },
     "execution_count": 20,
     "metadata": {},
     "output_type": "execute_result"
    }
   ],
   "source": [
    "kumar.isalpha()"
   ]
  },
  {
   "cell_type": "markdown",
   "id": "eafb8a6b",
   "metadata": {},
   "source": [
    "* isalnum() function checks whether string 's' is alpha numerical while isalpha() checks whether string 's' is alphabetiocal character\"   \n",
    ".\n"
   ]
  },
  {
   "cell_type": "markdown",
   "id": "1a8ba778",
   "metadata": {},
   "source": [
    "**7. try to give an example of expand tab**"
   ]
  },
  {
   "cell_type": "code",
   "execution_count": 29,
   "id": "52ddca11",
   "metadata": {},
   "outputs": [
    {
     "data": {
      "text/plain": [
       "'kumaka  thara'"
      ]
     },
     "execution_count": 29,
     "metadata": {},
     "output_type": "execute_result"
    }
   ],
   "source": [
    "s2 = \"kumaka\\tthara\"\n",
    "s3 = \"     kumaka thara   TK     \"\n",
    "s2.expandtabs()   #  expands '\\t' into tabs while execution "
   ]
  },
  {
   "cell_type": "markdown",
   "id": "66c42345",
   "metadata": {},
   "source": [
    "**8. Give an example of strip, lstrip and rstrip**"
   ]
  },
  {
   "cell_type": "code",
   "execution_count": 30,
   "id": "03022bba",
   "metadata": {},
   "outputs": [
    {
     "data": {
      "text/plain": [
       "'kumaka thara   TK'"
      ]
     },
     "execution_count": 30,
     "metadata": {},
     "output_type": "execute_result"
    }
   ],
   "source": [
    "s3.strip()   #  strips from both ends"
   ]
  },
  {
   "cell_type": "code",
   "execution_count": 33,
   "id": "01c9a996",
   "metadata": {},
   "outputs": [
    {
     "data": {
      "text/plain": [
       "'kumaka thara   TK     '"
      ]
     },
     "execution_count": 33,
     "metadata": {},
     "output_type": "execute_result"
    }
   ],
   "source": [
    "s3.lstrip()   #  strips from left "
   ]
  },
  {
   "cell_type": "code",
   "execution_count": 34,
   "id": "9e36e541",
   "metadata": {},
   "outputs": [
    {
     "data": {
      "text/plain": [
       "'     kumaka thara   TK'"
      ]
     },
     "execution_count": 34,
     "metadata": {},
     "output_type": "execute_result"
    }
   ],
   "source": [
    "s3.rstrip()  #  strips from right "
   ]
  },
  {
   "cell_type": "markdown",
   "id": "5e3afc34",
   "metadata": {},
   "source": [
    "**9.replace a string character by another character by taking your example.\n",
    "\"sudhanshu\"**"
   ]
  },
  {
   "cell_type": "code",
   "execution_count": 36,
   "id": "674d4577",
   "metadata": {},
   "outputs": [
    {
     "data": {
      "text/plain": [
       "'ManiLmazon'"
      ]
     },
     "execution_count": 36,
     "metadata": {},
     "output_type": "execute_result"
    }
   ],
   "source": [
    "s4 = 'ManiAmazon'\n",
    "s4.replace('A', 'L')  # the 'A' (caps) has been replace into 'L'"
   ]
  },
  {
   "cell_type": "code",
   "execution_count": 39,
   "id": "69a22949",
   "metadata": {},
   "outputs": [
    {
     "data": {
      "text/plain": [
       "'MxniAmxzon'"
      ]
     },
     "execution_count": 39,
     "metadata": {},
     "output_type": "execute_result"
    }
   ],
   "source": [
    "s4.replace('a', 'x')  # whereever 'a' found , same has been replaced into 'x'"
   ]
  },
  {
   "cell_type": "markdown",
   "id": "7b1b28e3",
   "metadata": {},
   "source": [
    "**10. try to give a defination of string center function with an example.**"
   ]
  },
  {
   "cell_type": "code",
   "execution_count": 43,
   "id": "eeb9c6fc",
   "metadata": {},
   "outputs": [
    {
     "data": {
      "text/plain": [
       "':::::::::::::::ManiAmazon:::::::::::::::'"
      ]
     },
     "execution_count": 43,
     "metadata": {},
     "output_type": "execute_result"
    }
   ],
   "source": [
    "# .center function fills up provided charater ':' within specified width of 40 along with the string at center.\n",
    "s4.center(40, ':')  "
   ]
  },
  {
   "cell_type": "markdown",
   "id": "5cc180b7",
   "metadata": {},
   "source": [
    "**11. write your own definition of compiler and interpretor without copy paste from internet in your own language.**"
   ]
  },
  {
   "cell_type": "markdown",
   "id": "e7bd20f8",
   "metadata": {},
   "source": [
    "* A compiler translates source code into machine code or another low-level language.\n",
    "* A compiler is a program that translates source code written in a high-level programming language into machine code or another low-level language that can be executed by a computer. The translation process is typically done in several stages, including lexical analysis, parsing, semantic analysis, and code generation. The output of the compiler is an executable file or object code that can be run on the target platform.\n",
    "  \n",
    "*   \n",
    "* An interpreter, on the other hand, is a program that directly executes instructions written in a high-level programming language without the need for compilation. The interpreter reads the source code line by line, parses it, and performs the specified operations. Unlike a compiler, an interpreter does not produce an executable file or object code. Instead, it executes the program directly from the source code\n",
    "* An interpreter directly executes instructions written in a high-level programming language.  \n"
   ]
  },
  {
   "cell_type": "markdown",
   "id": "00e25bcd",
   "metadata": {},
   "source": [
    "**12. Python is a interpreted of compiled laguage give a clear ans with your understanding.**"
   ]
  },
  {
   "cell_type": "markdown",
   "id": "2a227b58",
   "metadata": {},
   "source": [
    "The python program is first compiled and then interpreted. \n",
    "The compilation part is hidden from the programmer thus, many programmers believe that it is an interpreted language however the compilation part is done first when we execute our code and this will generate byte code and internally this byte code gets converted by the Python Virtual Machine(PVM) according to the underlying platform(machine+operating system)."
   ]
  },
  {
   "cell_type": "markdown",
   "id": "4827b710",
   "metadata": {},
   "source": [
    "**13.try to write a usecase of python with your understanding.**"
   ]
  },
  {
   "cell_type": "markdown",
   "id": "c1d633f3",
   "metadata": {},
   "source": [
    "+ Game Development\n",
    "+ Web Applications\n",
    "+ Software Development\n",
    "+ Web Scraping\n",
    "+ Internet of Things\n",
    "+ Data Science."
   ]
  },
  {
   "cell_type": "code",
   "execution_count": null,
   "id": "1ae539e8",
   "metadata": {},
   "outputs": [],
   "source": []
  }
 ],
 "metadata": {
  "kernelspec": {
   "display_name": "Python 3 (ipykernel)",
   "language": "python",
   "name": "python3"
  },
  "language_info": {
   "codemirror_mode": {
    "name": "ipython",
    "version": 3
   },
   "file_extension": ".py",
   "mimetype": "text/x-python",
   "name": "python",
   "nbconvert_exporter": "python",
   "pygments_lexer": "ipython3",
   "version": "3.9.16"
  }
 },
 "nbformat": 4,
 "nbformat_minor": 5
}

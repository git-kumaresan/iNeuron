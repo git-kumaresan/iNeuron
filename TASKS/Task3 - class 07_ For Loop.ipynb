{
 "cells": [
  {
   "cell_type": "markdown",
   "id": "f4db6c86",
   "metadata": {},
   "source": [
    "## For Loop"
   ]
  },
  {
   "cell_type": "markdown",
   "id": "810230d7",
   "metadata": {},
   "source": [
    "**Total questions: 15**  \n",
    "**Solved         : 15**  \n",
    "**Unsolved       : 0** "
   ]
  },
  {
   "cell_type": "code",
   "execution_count": 1,
   "id": "b66de963",
   "metadata": {},
   "outputs": [
    {
     "data": {
      "text/plain": [
       "'l = [[1,2,3,4], (2,3,4,5,6), (3,4,5,6,7), set([23,4,5,45,4,4,5,45,45,4,5]),\\n{\\'k1\\':\"sudh\",\"k2\":\"ineuron\", \"k3\":\"kumar\",3:6,7:8}, [\"ineuron\",\"data science\"]]'"
      ]
     },
     "execution_count": 1,
     "metadata": {},
     "output_type": "execute_result"
    }
   ],
   "source": [
    "#questions (time = 2:30:00)\n",
    "#1. have to print 'ineuron'1 * 4\n",
    "#2. ineuron into triangle.(square)\n",
    "\"\"\"l = [[1,2,3,4], (2,3,4,5,6), (3,4,5,6,7), set([23,4,5,45,4,4,5,45,45,4,5]),\n",
    "{'k1':\"sudh\",\"k2\":\"ineuron\", \"k3\":\"kumar\",3:6,7:8}, [\"ineuron\",\"data science\"]]\"\"\""
   ]
  },
  {
   "cell_type": "code",
   "execution_count": null,
   "id": "3eb9a912",
   "metadata": {},
   "outputs": [],
   "source": [
    "#3. try to extract all the list entities\n",
    "#4. try to extract all the dict entities\n",
    "#5. try to extract all the tuple entities\n",
    "#6. try to extract all the numerical data it may be part of dict key and values\n",
    "#7. try to givn summation of all the numerical data\n",
    "#8. try to filter out all the odd values out all numeric data which is a part of a list\n",
    "#9. try to extract 'ineuron' out of this data\n",
    "#10.try to find out a number of occurences of all the data\n",
    "#11.try to find out number of key in dict element\n",
    "#12.try to filter out all the string data\n",
    "#13.try to find out alphanum in data\n",
    "#14.try to find out multiplication of all the individual collections dataset\n",
    "#15.try to unwrap all the collection inside collection and create a flattered list"
   ]
  },
  {
   "cell_type": "code",
   "execution_count": null,
   "id": "26f3aaa3",
   "metadata": {},
   "outputs": [],
   "source": []
  },
  {
   "cell_type": "markdown",
   "id": "9b2a3b8a",
   "metadata": {},
   "source": [
    "**1. have to print 'ineuron'1^4**"
   ]
  },
  {
   "cell_type": "code",
   "execution_count": 19,
   "id": "4cd917e5",
   "metadata": {},
   "outputs": [
    {
     "name": "stdout",
     "output_type": "stream",
     "text": [
      "Enter the text:iNeuron\n",
      "Enter how many times the text shoul be appeared : 4\n",
      "\n",
      "\n",
      "iNeuron \n",
      "iNeuron iNeuron \n",
      "iNeuron iNeuron iNeuron \n",
      "iNeuron iNeuron iNeuron iNeuron \n"
     ]
    }
   ],
   "source": [
    "text = input('Enter the text:')\n",
    "num = int(input('Enter how many times the text shoul be appeared : '))\n",
    "print('\\n')\n",
    "\n",
    "x =1\n",
    "for i in range(num):\n",
    "    for i in range(x):\n",
    "        print(text, end =' ')\n",
    "    x +=1\n",
    "    print()\n"
   ]
  },
  {
   "cell_type": "markdown",
   "id": "bca69527",
   "metadata": {},
   "source": [
    "**#2. ineuron into triangle.(square)**"
   ]
  },
  {
   "cell_type": "code",
   "execution_count": 31,
   "id": "31f57726",
   "metadata": {},
   "outputs": [
    {
     "name": "stdout",
     "output_type": "stream",
     "text": [
      "                             \n",
      "                     iNeuron \n",
      "             iNeuron iNeuron \n",
      "     iNeuron iNeuron iNeuron \n",
      " iNeuron iNeuron iNeuron iNeuron \n"
     ]
    }
   ],
   "source": [
    "t = 'iNeuron'\n",
    "n = 5\n",
    "k = n-1\n",
    "length = len(t)\n",
    "\n",
    "for i in range(n):\n",
    "   \n",
    "    print(\" \"*((length*k)-i), end =' ')\n",
    "    for j in range(i):\n",
    "        print(t, end = \" \")\n",
    "    k -=1\n",
    "    print()\n",
    "    "
   ]
  },
  {
   "cell_type": "code",
   "execution_count": 36,
   "id": "9b12308b",
   "metadata": {},
   "outputs": [
    {
     "name": "stdout",
     "output_type": "stream",
     "text": [
      "                     \n",
      "                iNeuron \n",
      "            iNeuron iNeuron \n",
      "         iNeuron iNeuron iNeuron \n",
      "       iNeuron iNeuron iNeuron iNeuron \n"
     ]
    }
   ],
   "source": [
    "t = 'iNeuron'\n",
    "n = 5\n",
    "k = n-1\n",
    "sp = n*k\n",
    "length = len(t)\n",
    "\n",
    "for i in range(n):\n",
    "   \n",
    "    print(\" \"*(sp-i), end =' ')\n",
    "    sp = sp-k\n",
    "    for j in range(i):\n",
    "        print(t, end = \" \")\n",
    "    k -=1\n",
    "    print()"
   ]
  },
  {
   "cell_type": "code",
   "execution_count": null,
   "id": "9743d57d",
   "metadata": {},
   "outputs": [],
   "source": []
  },
  {
   "cell_type": "code",
   "execution_count": 37,
   "id": "e6dac1fe",
   "metadata": {},
   "outputs": [],
   "source": [
    "l = [[1,2,3,4], (2,3,4,5,6), (3,4,5,6,7), set([23,4,5,45,4,4,5,45,45,4,5]),\n",
    "{'k1':\"sudh\",\"k2\":\"ineuron\", \"k3\":\"kumar\",3:6,7:8}, [\"ineuron\",\"data science\"]]"
   ]
  },
  {
   "cell_type": "code",
   "execution_count": 41,
   "id": "536fd130",
   "metadata": {},
   "outputs": [
    {
     "data": {
      "text/plain": [
       "[[1, 2, 3, 4],\n",
       " (2, 3, 4, 5, 6),\n",
       " (3, 4, 5, 6, 7),\n",
       " {4, 5, 23, 45},\n",
       " {'k1': 'sudh', 'k2': 'ineuron', 'k3': 'kumar', 3: 6, 7: 8},\n",
       " ['ineuron', 'data science']]"
      ]
     },
     "execution_count": 41,
     "metadata": {},
     "output_type": "execute_result"
    }
   ],
   "source": [
    "l"
   ]
  },
  {
   "cell_type": "markdown",
   "id": "bf8d4158",
   "metadata": {},
   "source": [
    "**3. try to extract all the list entities**"
   ]
  },
  {
   "cell_type": "code",
   "execution_count": 53,
   "id": "5c2c9c1e",
   "metadata": {},
   "outputs": [
    {
     "name": "stdout",
     "output_type": "stream",
     "text": [
      "[1, 2, 3, 4, 'ineuron', 'data science']\n",
      "[[1, 2, 3, 4], ['ineuron', 'data science']]\n"
     ]
    }
   ],
   "source": [
    "#  using 'for' and 'if' statements\n",
    "ans = []\n",
    "ans2 = []\n",
    "\n",
    "for i in l:\n",
    "    if type(i)== list:\n",
    "        ans.extend(i)\n",
    "        ans2.append(i)\n",
    "print(ans)\n",
    "print(ans2)"
   ]
  },
  {
   "cell_type": "code",
   "execution_count": 54,
   "id": "67734d7c",
   "metadata": {},
   "outputs": [
    {
     "name": "stdout",
     "output_type": "stream",
     "text": [
      "[1, 2, 3, 4, 'ineuron', 'data science']\n",
      "[[1, 2, 3, 4], ['ineuron', 'data science']]\n"
     ]
    }
   ],
   "source": [
    "#  using 'isinstance' module\n",
    "ans = []\n",
    "ans2 = []\n",
    "\n",
    "for i in l:\n",
    "    if isinstance(i, list):\n",
    "        ans.extend(i)\n",
    "        ans2.append(i)\n",
    "print(ans)\n",
    "print(ans2)"
   ]
  },
  {
   "cell_type": "markdown",
   "id": "cb366060",
   "metadata": {},
   "source": [
    "**4. try to extract all the dict entities**"
   ]
  },
  {
   "cell_type": "code",
   "execution_count": 63,
   "id": "bf29b5d9",
   "metadata": {},
   "outputs": [
    {
     "name": "stdout",
     "output_type": "stream",
     "text": [
      "['k1', 'k2', 'k3', 3, 7, 'sudh', 'ineuron', 'kumar', 6, 8]\n"
     ]
    }
   ],
   "source": [
    "#  using 'for' and 'if' statements\n",
    "ans = []\n",
    "\n",
    "for i in l:\n",
    "    if type(i)== dict:\n",
    "        ans.extend(i)\n",
    "        ans.extend(i.values())\n",
    "print(ans)\n"
   ]
  },
  {
   "cell_type": "code",
   "execution_count": 75,
   "id": "ba0bd072",
   "metadata": {},
   "outputs": [
    {
     "name": "stdout",
     "output_type": "stream",
     "text": [
      "k1 : sudh\n",
      "k2 : ineuron\n",
      "k3 : kumar\n",
      "3 : 6\n",
      "7 : 8\n",
      "\n",
      " ['k1', 'sudh', 'k2', 'ineuron', 'k3', 'kumar', 3, 6, 7, 8]\n"
     ]
    }
   ],
   "source": [
    "#  using 'for' and 'if' statements\n",
    "ans = []\n",
    "\n",
    "for i in l:\n",
    "    if type(i)== dict:\n",
    "        for x,y in i.items():\n",
    "            print(x,':',y)\n",
    "            ans.append(x)\n",
    "            ans.append(y)\n",
    "print(\"\\n\",ans)"
   ]
  },
  {
   "cell_type": "markdown",
   "id": "f88f062b",
   "metadata": {},
   "source": [
    "**5. try to extract all the tuple entities**"
   ]
  },
  {
   "cell_type": "code",
   "execution_count": 64,
   "id": "5801c442",
   "metadata": {},
   "outputs": [
    {
     "name": "stdout",
     "output_type": "stream",
     "text": [
      "[2, 3, 4, 5, 6, 3, 4, 5, 6, 7]\n"
     ]
    }
   ],
   "source": [
    "ans = []\n",
    "\n",
    "for i in l:\n",
    "    if type(i)== tuple:\n",
    "        ans.extend(i)\n",
    "        \n",
    "print(ans)\n"
   ]
  },
  {
   "cell_type": "markdown",
   "id": "2e2905e8",
   "metadata": {},
   "source": [
    "**6. try to extract all the numerical data it may be part of dict key and values**"
   ]
  },
  {
   "cell_type": "code",
   "execution_count": 96,
   "id": "b68e5d92",
   "metadata": {},
   "outputs": [
    {
     "name": "stdout",
     "output_type": "stream",
     "text": [
      "numerical values part of dictionary [3, 6, 7, 8]\n"
     ]
    }
   ],
   "source": [
    "ans = []\n",
    "\n",
    "for i in l:\n",
    "    if type(i) == dict :\n",
    "        for x, y in i.items():\n",
    "            if type(x) == int:\n",
    "                ans.append(x)\n",
    "            if type(y) == int:\n",
    "                ans.append(y)\n",
    "                 \n",
    "print(\"numerical values part of dictionary\", ans)"
   ]
  },
  {
   "cell_type": "code",
   "execution_count": 97,
   "id": "ff99ba7d",
   "metadata": {},
   "outputs": [
    {
     "name": "stdout",
     "output_type": "stream",
     "text": [
      "[1, 2, 3, 4, 2, 3, 4, 5, 6, 3, 4, 5, 6, 7, 45, 4, 5, 23, 3, 6, 7, 8]\n"
     ]
    }
   ],
   "source": [
    "num_all = []\n",
    "for i in l:\n",
    "    if type(i)== list or type(i)==tuple or type(i)==set:\n",
    "        for j in i:\n",
    "            if type(j) ==int:\n",
    "                num_all.append(j)\n",
    "    elif type(i)== dict:\n",
    "        for x, y in i.items():\n",
    "            if type(x)== int:\n",
    "                num_all.append(x)\n",
    "            if type(y)== int:\n",
    "                num_all.append(y)\n",
    "print(num_all)"
   ]
  },
  {
   "cell_type": "markdown",
   "id": "21ee32c2",
   "metadata": {},
   "source": [
    "**7. try to givn summation of all the numerical data**"
   ]
  },
  {
   "cell_type": "code",
   "execution_count": 95,
   "id": "dc30870d",
   "metadata": {},
   "outputs": [
    {
     "name": "stdout",
     "output_type": "stream",
     "text": [
      "\n",
      "sum of all numerical data is :  156\n"
     ]
    }
   ],
   "source": [
    "summ = 0\n",
    "for i in l:\n",
    "    if type(i)== list or type(i)==tuple or type(i)==set:\n",
    "        for j in i:\n",
    "            if type(j) ==int:\n",
    "                summ = summ + j\n",
    "    elif type(i)== dict:\n",
    "        for x, y in i.items():\n",
    "            if type(x)== int:\n",
    "                summ = summ + x\n",
    "            if type(y)== int:\n",
    "                summ = summ + y\n",
    "\n",
    "print(\"\\nsum of all numerical data is : \",summ)"
   ]
  },
  {
   "cell_type": "code",
   "execution_count": 98,
   "id": "412c5dee",
   "metadata": {},
   "outputs": [
    {
     "data": {
      "text/plain": [
       "156"
      ]
     },
     "execution_count": 98,
     "metadata": {},
     "output_type": "execute_result"
    }
   ],
   "source": [
    "sum(num_all)"
   ]
  },
  {
   "cell_type": "markdown",
   "id": "50358916",
   "metadata": {},
   "source": [
    "**8. try to filter out all the odd values out all numeric data which is a part of a list**"
   ]
  },
  {
   "cell_type": "code",
   "execution_count": 100,
   "id": "6e3412e5",
   "metadata": {},
   "outputs": [
    {
     "name": "stdout",
     "output_type": "stream",
     "text": [
      "[1, 3, 3, 5, 3, 5, 7, 45, 5, 23, 3, 7]\n"
     ]
    }
   ],
   "source": [
    "odd_num = []\n",
    "for i in num_all:\n",
    "    if i%2!=0:\n",
    "        odd_num.append(i)\n",
    "        \n",
    "print(odd_num)\n",
    "        \n",
    "        "
   ]
  },
  {
   "cell_type": "markdown",
   "id": "9e643a94",
   "metadata": {},
   "source": [
    "**9. try to extract 'ineuron' out of this data**"
   ]
  },
  {
   "cell_type": "code",
   "execution_count": 101,
   "id": "473bd992",
   "metadata": {},
   "outputs": [
    {
     "data": {
      "text/plain": [
       "[[1, 2, 3, 4],\n",
       " (2, 3, 4, 5, 6),\n",
       " (3, 4, 5, 6, 7),\n",
       " {4, 5, 23, 45},\n",
       " {'k1': 'sudh', 'k2': 'ineuron', 'k3': 'kumar', 3: 6, 7: 8},\n",
       " ['ineuron', 'data science']]"
      ]
     },
     "execution_count": 101,
     "metadata": {},
     "output_type": "execute_result"
    }
   ],
   "source": [
    "l"
   ]
  },
  {
   "cell_type": "code",
   "execution_count": 104,
   "id": "5da07831",
   "metadata": {},
   "outputs": [
    {
     "name": "stdout",
     "output_type": "stream",
     "text": [
      "\n",
      " ['ineuron', 'ineuron']\n"
     ]
    }
   ],
   "source": [
    "ineu = []\n",
    "for i in l:\n",
    "    if type(i)== list or type(i)==set or type(i)== tuple:\n",
    "        for j in i:\n",
    "            if j == 'ineuron':\n",
    "                ineu.append(j)\n",
    "    if type(i)== dict:\n",
    "        for x, y in i.items():\n",
    "            if x =='ineuron':\n",
    "                ineu.append(x)\n",
    "            if y == 'ineuron':\n",
    "                ineu.append(y)\n",
    "\n",
    "print(\"\\n\", ineu)"
   ]
  },
  {
   "cell_type": "markdown",
   "id": "6d65c30e",
   "metadata": {},
   "source": [
    "**10.try to find out a number of occurences of all the data**"
   ]
  },
  {
   "cell_type": "code",
   "execution_count": 151,
   "id": "0dca70e9",
   "metadata": {},
   "outputs": [
    {
     "name": "stdout",
     "output_type": "stream",
     "text": [
      "'sudh' occured '1' times\n",
      "'1' occured '1' times\n",
      "'2' occured '2' times\n",
      "'3' occured '4' times\n",
      "'4' occured '4' times\n",
      "'5' occured '3' times\n",
      "'6' occured '3' times\n",
      "'7' occured '2' times\n",
      "'k2' occured '1' times\n",
      "'ineuron' occured '2' times\n",
      "'kumar' occured '1' times\n",
      "'8' occured '1' times\n",
      "'45' occured '1' times\n",
      "'data science' occured '1' times\n",
      "'k3' occured '1' times\n",
      "'23' occured '1' times\n",
      "'k1' occured '1' times\n",
      "\n",
      " \n",
      "Element and count into dictionary: \n",
      " {'sudh': 1, 1: 1, 2: 2, 3: 4, 4: 4, 5: 3, 6: 3, 7: 2, 'k2': 1, 'ineuron': 2, 'kumar': 1, 8: 1, 45: 1, 'data science': 1, 'k3': 1, 23: 1, 'k1': 1}\n"
     ]
    }
   ],
   "source": [
    "all_ele = []\n",
    "for i in l:\n",
    "    if type(i)== list or type(i)==set or type(i)== tuple:\n",
    "        for j in i:\n",
    "            all_ele.append(j)\n",
    "    if type(i)== dict:\n",
    "        for x, y in i.items():\n",
    "            all_ele.append(x)\n",
    "            all_ele.append(y)\n",
    "#print(\"list of all elements in 'l'\\n\", all_ele, \"\\n\")\n",
    "\n",
    "uniq = set(all_ele)\n",
    "#print(\"uniq values :\", uniq, \"\\n\")\n",
    "\n",
    "ele_cnt = {}\n",
    "for i in uniq:\n",
    "    cnt = 0\n",
    "    for j in all_ele:\n",
    "        if j == i:\n",
    "            cnt +=1\n",
    "    ele_cnt[i]=cnt\n",
    "    print(f\"'{i}' occured '{cnt}' times\")\n",
    "print(\"\\n \\nElement and count into dictionary: \\n\", ele_cnt)"
   ]
  },
  {
   "cell_type": "markdown",
   "id": "8f578199",
   "metadata": {},
   "source": [
    "**11.try to find out number of key in dict element**"
   ]
  },
  {
   "cell_type": "code",
   "execution_count": 152,
   "id": "ec698049",
   "metadata": {},
   "outputs": [
    {
     "data": {
      "text/plain": [
       "[[1, 2, 3, 4],\n",
       " (2, 3, 4, 5, 6),\n",
       " (3, 4, 5, 6, 7),\n",
       " {4, 5, 23, 45},\n",
       " {'k1': 'sudh', 'k2': 'ineuron', 'k3': 'kumar', 3: 6, 7: 8},\n",
       " ['ineuron', 'data science']]"
      ]
     },
     "execution_count": 152,
     "metadata": {},
     "output_type": "execute_result"
    }
   ],
   "source": [
    "l"
   ]
  },
  {
   "cell_type": "code",
   "execution_count": 171,
   "id": "6f1bc186",
   "metadata": {},
   "outputs": [
    {
     "name": "stdout",
     "output_type": "stream",
     "text": [
      "count of all keys in list is  5\n"
     ]
    }
   ],
   "source": [
    "kys = []\n",
    "kys_cnt = 0\n",
    "for i in l:\n",
    "    if type(i) == dict:\n",
    "        for x in i.keys():\n",
    "            kys.append(x)\n",
    "            kys_cnt+=1\n",
    "print(\"count of all keys in list is \",kys_cnt)"
   ]
  },
  {
   "cell_type": "code",
   "execution_count": 168,
   "id": "e0549aba",
   "metadata": {},
   "outputs": [
    {
     "data": {
      "text/plain": [
       "['k1', 'k2', 'k3', 3, 7]"
      ]
     },
     "execution_count": 168,
     "metadata": {},
     "output_type": "execute_result"
    }
   ],
   "source": [
    "kys"
   ]
  },
  {
   "cell_type": "markdown",
   "id": "65f8cebe",
   "metadata": {},
   "source": [
    "**12.try to filter out all the string data**"
   ]
  },
  {
   "cell_type": "code",
   "execution_count": 176,
   "id": "18d83b71",
   "metadata": {},
   "outputs": [
    {
     "name": "stdout",
     "output_type": "stream",
     "text": [
      "all strings in data \n",
      " ['k1', 'sudh', 'k2', 'ineuron', 'k3', 'kumar', 'ineuron', 'data science']\n"
     ]
    }
   ],
   "source": [
    "all_str = []\n",
    "\n",
    "for i in l:\n",
    "    if type(i)== list or type(i)==set or type(i)==tuple:\n",
    "        for j in i:\n",
    "            if type(j) == str:\n",
    "                all_str.append(j)\n",
    "    \n",
    "    if type(i) == dict:\n",
    "        for x, y in i.items():\n",
    "            if type(x)== str:\n",
    "                all_str.append(x)\n",
    "            if type(y)== str:\n",
    "                all_str.append(y)\n",
    "                \n",
    "print(\"all strings in data \\n\",all_str)"
   ]
  },
  {
   "cell_type": "markdown",
   "id": "2ff373f2",
   "metadata": {},
   "source": [
    "**13.try to find out alphanum in data**"
   ]
  },
  {
   "cell_type": "code",
   "execution_count": 184,
   "id": "f8cbf8fa",
   "metadata": {},
   "outputs": [
    {
     "name": "stdout",
     "output_type": "stream",
     "text": [
      "k1\n",
      "sudh\n",
      "k2\n",
      "ineuron\n",
      "k3\n",
      "kumar\n",
      "ineuron\n",
      "data science\n"
     ]
    }
   ],
   "source": [
    "for i in all_ele:\n",
    "    if type(i)== str:\n",
    "        if i.isalnum:\n",
    "            print(i)"
   ]
  },
  {
   "cell_type": "markdown",
   "id": "5cf6cf3d",
   "metadata": {},
   "source": [
    "**14.try to find out multiplication of all the individual collections dataset**"
   ]
  },
  {
   "cell_type": "code",
   "execution_count": 187,
   "id": "2f0fa2e2",
   "metadata": {},
   "outputs": [
    {
     "name": "stdout",
     "output_type": "stream",
     "text": [
      "For collection [1, 2, 3, 4], the multiplication of all element is : 24\n",
      "For collection (2, 3, 4, 5, 6), the multiplication of all element is : 720\n",
      "For collection (3, 4, 5, 6, 7), the multiplication of all element is : 2520\n",
      "For collection {45, 4, 5, 23}, the multiplication of all element is : 20700\n",
      "For collection ['ineuron', 'data science'], the multiplication of all element is : 1\n"
     ]
    }
   ],
   "source": [
    "\n",
    "\n",
    "for i in l:\n",
    "    multi = 1\n",
    "    if type(i)== list or type(i)==set or type(i)==tuple:\n",
    "        for j in i:\n",
    "            if type(j)==int:\n",
    "                multi = j * multi\n",
    "        print(f\"For collection {i}, the multiplication of all element is : {multi}\")\n",
    "        \n",
    "        "
   ]
  },
  {
   "cell_type": "markdown",
   "id": "932e3c66",
   "metadata": {},
   "source": [
    "**15.try to unwrap all the collection inside collection and create a flattered list**"
   ]
  },
  {
   "cell_type": "code",
   "execution_count": 188,
   "id": "a635726a",
   "metadata": {},
   "outputs": [
    {
     "name": "stdout",
     "output_type": "stream",
     "text": [
      "flattered list [1, 2, 3, 4, 2, 3, 4, 5, 6, 3, 4, 5, 6, 7, 45, 4, 5, 23, 'k1', 'sudh', 'k2', 'ineuron', 'k3', 'kumar', 3, 6, 7, 8, 'ineuron', 'data science']\n"
     ]
    }
   ],
   "source": [
    "all_ele = []\n",
    "for i in l:\n",
    "    if type(i)== list or type(i)==set or type(i)== tuple:\n",
    "        for j in i:\n",
    "            all_ele.append(j)\n",
    "    if type(i)== dict:\n",
    "        for x, y in i.items():\n",
    "            all_ele.append(x)\n",
    "            all_ele.append(y)\n",
    "print(\"flattered list\", all_ele)"
   ]
  },
  {
   "cell_type": "code",
   "execution_count": null,
   "id": "1d764922",
   "metadata": {},
   "outputs": [],
   "source": []
  }
 ],
 "metadata": {
  "kernelspec": {
   "display_name": "Python 3 (ipykernel)",
   "language": "python",
   "name": "python3"
  },
  "language_info": {
   "codemirror_mode": {
    "name": "ipython",
    "version": 3
   },
   "file_extension": ".py",
   "mimetype": "text/x-python",
   "name": "python",
   "nbconvert_exporter": "python",
   "pygments_lexer": "ipython3",
   "version": "3.9.16"
  }
 },
 "nbformat": 4,
 "nbformat_minor": 5
}

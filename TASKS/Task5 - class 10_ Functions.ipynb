{
 "cells": [
  {
   "cell_type": "markdown",
   "id": "44b8a7f0",
   "metadata": {},
   "source": [
    "## Task5 - class 10_ Functions"
   ]
  },
  {
   "cell_type": "markdown",
   "id": "a1e44f3e",
   "metadata": {},
   "source": [
    "**Total questions: 7**  \n",
    "**Solved         : 4**  \n",
    "**Unsolved       : 3**  \n"
   ]
  },
  {
   "cell_type": "code",
   "execution_count": null,
   "id": "b8f83f02",
   "metadata": {},
   "outputs": [],
   "source": [
    "Todays task :\n",
    "    q1 : Try to print a prime number in between 1 to 1000\n",
    "    q2 : Try to write a function which  is equivalent  to print function in python\n",
    "    q3 : Try to write a function which is a replica of list append , extend and pop function \n",
    "    q4 : Try to write a lambda function which can return a concatination of all the string that we will pass\n",
    "    q5 : Try to write a lambda function which can return list of square of all the data between 1-100 \n",
    "    q6 : Try to write a 10 Different different example of lambda function with a choice of your taks \n",
    "    q7 : Try to wwrite a funtion whihc can perform a read operation from .txt file \n",
    "        \n"
   ]
  },
  {
   "cell_type": "markdown",
   "id": "b2978a0d",
   "metadata": {},
   "source": [
    "**q1 : Try to print a prime number in between 1 to 1000**"
   ]
  },
  {
   "cell_type": "code",
   "execution_count": 9,
   "id": "86c3c946",
   "metadata": {},
   "outputs": [
    {
     "name": "stdout",
     "output_type": "stream",
     "text": [
      "2\n",
      "3\n",
      "5\n",
      "7\n",
      "11\n",
      "13\n",
      "17\n",
      "19\n",
      "23\n",
      "29\n",
      "31\n",
      "37\n",
      "41\n",
      "43\n",
      "47\n",
      "53\n",
      "59\n",
      "61\n",
      "67\n",
      "71\n",
      "73\n",
      "79\n",
      "83\n",
      "89\n",
      "97\n",
      "101\n",
      "103\n",
      "107\n",
      "109\n",
      "113\n",
      "127\n",
      "131\n",
      "137\n",
      "139\n",
      "149\n",
      "151\n",
      "157\n",
      "163\n",
      "167\n",
      "173\n",
      "179\n",
      "181\n",
      "191\n",
      "193\n",
      "197\n",
      "199\n",
      "211\n",
      "223\n",
      "227\n",
      "229\n",
      "233\n",
      "239\n",
      "241\n",
      "251\n",
      "257\n",
      "263\n",
      "269\n",
      "271\n",
      "277\n",
      "281\n",
      "283\n",
      "293\n",
      "307\n",
      "311\n",
      "313\n",
      "317\n",
      "331\n",
      "337\n",
      "347\n",
      "349\n",
      "353\n",
      "359\n",
      "367\n",
      "373\n",
      "379\n",
      "383\n",
      "389\n",
      "397\n",
      "401\n",
      "409\n",
      "419\n",
      "421\n",
      "431\n",
      "433\n",
      "439\n",
      "443\n",
      "449\n",
      "457\n",
      "461\n",
      "463\n",
      "467\n",
      "479\n",
      "487\n",
      "491\n",
      "499\n",
      "503\n",
      "509\n",
      "521\n",
      "523\n",
      "541\n",
      "547\n",
      "557\n",
      "563\n",
      "569\n",
      "571\n",
      "577\n",
      "587\n",
      "593\n",
      "599\n",
      "601\n",
      "607\n",
      "613\n",
      "617\n",
      "619\n",
      "631\n",
      "641\n",
      "643\n",
      "647\n",
      "653\n",
      "659\n",
      "661\n",
      "673\n",
      "677\n",
      "683\n",
      "691\n",
      "701\n",
      "709\n",
      "719\n",
      "727\n",
      "733\n",
      "739\n",
      "743\n",
      "751\n",
      "757\n",
      "761\n",
      "769\n",
      "773\n",
      "787\n",
      "797\n",
      "809\n",
      "811\n",
      "821\n",
      "823\n",
      "827\n",
      "829\n",
      "839\n",
      "853\n",
      "857\n",
      "859\n",
      "863\n",
      "877\n",
      "881\n",
      "883\n",
      "887\n",
      "907\n",
      "911\n",
      "919\n",
      "929\n",
      "937\n",
      "941\n",
      "947\n",
      "953\n",
      "967\n",
      "971\n",
      "977\n",
      "983\n",
      "991\n",
      "997\n"
     ]
    }
   ],
   "source": [
    "for i in range(1, 1001):\n",
    "    if i > 1:\n",
    "        for j in range(2, i):\n",
    "            if (i % j) == 0:\n",
    "                break\n",
    "        else:\n",
    "            print(i)"
   ]
  },
  {
   "cell_type": "code",
   "execution_count": 10,
   "id": "3214b59d",
   "metadata": {},
   "outputs": [
    {
     "data": {
      "text/plain": [
       "0"
      ]
     },
     "execution_count": 10,
     "metadata": {},
     "output_type": "execute_result"
    }
   ],
   "source": [
    "2%2"
   ]
  },
  {
   "cell_type": "code",
   "execution_count": null,
   "id": "7c35b67d",
   "metadata": {},
   "outputs": [],
   "source": []
  },
  {
   "cell_type": "markdown",
   "id": "5f11d946",
   "metadata": {},
   "source": [
    "**q2 : Try to write a function which  is equivalent  to print function in python**"
   ]
  },
  {
   "cell_type": "code",
   "execution_count": 13,
   "id": "eb643244",
   "metadata": {},
   "outputs": [
    {
     "name": "stdout",
     "output_type": "stream",
     "text": [
      "Mani"
     ]
    }
   ],
   "source": [
    "import sys \n",
    "def print_manual(x):\n",
    "    sys.stdout.write(x)\n",
    "\n",
    "print_manual(\"Mani\")"
   ]
  },
  {
   "cell_type": "code",
   "execution_count": 17,
   "id": "2f35f63c",
   "metadata": {},
   "outputs": [
    {
     "name": "stdout",
     "output_type": "stream",
     "text": [
      "kumaresan vengadajalam"
     ]
    }
   ],
   "source": [
    "x = 'kumaresan vengadajalam'\n",
    "print_manual(x)"
   ]
  },
  {
   "cell_type": "markdown",
   "id": "e1a57aa1",
   "metadata": {},
   "source": [
    "**q3 : Try to write a function which is a replica of list append , extend and pop function**"
   ]
  },
  {
   "cell_type": "code",
   "execution_count": null,
   "id": "77a51d56",
   "metadata": {},
   "outputs": [],
   "source": [
    "**PENDING**"
   ]
  },
  {
   "cell_type": "markdown",
   "id": "c4b6d2fa",
   "metadata": {},
   "source": [
    "**q4 : Try to write a lambda function which can return a concatenation of all the string that we will pass**"
   ]
  },
  {
   "cell_type": "code",
   "execution_count": 106,
   "id": "094d66d1",
   "metadata": {},
   "outputs": [],
   "source": [
    "x=lambda *arg : \"\".join(arg)\n",
    "   \n",
    "\n",
    "a = 'text1'\n",
    "b = 'text2'\n",
    "c = 'text3'"
   ]
  },
  {
   "cell_type": "code",
   "execution_count": 107,
   "id": "5edbc20c",
   "metadata": {},
   "outputs": [
    {
     "data": {
      "text/plain": [
       "'text1text2text3'"
      ]
     },
     "execution_count": 107,
     "metadata": {},
     "output_type": "execute_result"
    }
   ],
   "source": [
    "x(a, b, c)"
   ]
  },
  {
   "cell_type": "markdown",
   "id": "d6af079a",
   "metadata": {},
   "source": [
    "**q5 : Try to write a lambda function which can return list of square of all the data between 1-100**"
   ]
  },
  {
   "cell_type": "code",
   "execution_count": 125,
   "id": "54c815f5",
   "metadata": {},
   "outputs": [],
   "source": [
    "y = lambda x : [i**2 for i in x]"
   ]
  },
  {
   "cell_type": "code",
   "execution_count": 128,
   "id": "8c18f7bb",
   "metadata": {},
   "outputs": [],
   "source": [
    "a = list(range(1,101))"
   ]
  },
  {
   "cell_type": "code",
   "execution_count": 126,
   "id": "462027ea",
   "metadata": {},
   "outputs": [
    {
     "data": {
      "text/plain": [
       "[1,\n",
       " 4,\n",
       " 9,\n",
       " 16,\n",
       " 25,\n",
       " 36,\n",
       " 49,\n",
       " 64,\n",
       " 81,\n",
       " 100,\n",
       " 121,\n",
       " 144,\n",
       " 169,\n",
       " 196,\n",
       " 225,\n",
       " 256,\n",
       " 289,\n",
       " 324,\n",
       " 361,\n",
       " 400,\n",
       " 441,\n",
       " 484,\n",
       " 529,\n",
       " 576,\n",
       " 625,\n",
       " 676,\n",
       " 729,\n",
       " 784,\n",
       " 841,\n",
       " 900,\n",
       " 961,\n",
       " 1024,\n",
       " 1089,\n",
       " 1156,\n",
       " 1225,\n",
       " 1296,\n",
       " 1369,\n",
       " 1444,\n",
       " 1521,\n",
       " 1600,\n",
       " 1681,\n",
       " 1764,\n",
       " 1849,\n",
       " 1936,\n",
       " 2025,\n",
       " 2116,\n",
       " 2209,\n",
       " 2304,\n",
       " 2401,\n",
       " 2500,\n",
       " 2601,\n",
       " 2704,\n",
       " 2809,\n",
       " 2916,\n",
       " 3025,\n",
       " 3136,\n",
       " 3249,\n",
       " 3364,\n",
       " 3481,\n",
       " 3600,\n",
       " 3721,\n",
       " 3844,\n",
       " 3969,\n",
       " 4096,\n",
       " 4225,\n",
       " 4356,\n",
       " 4489,\n",
       " 4624,\n",
       " 4761,\n",
       " 4900,\n",
       " 5041,\n",
       " 5184,\n",
       " 5329,\n",
       " 5476,\n",
       " 5625,\n",
       " 5776,\n",
       " 5929,\n",
       " 6084,\n",
       " 6241,\n",
       " 6400,\n",
       " 6561,\n",
       " 6724,\n",
       " 6889,\n",
       " 7056,\n",
       " 7225,\n",
       " 7396,\n",
       " 7569,\n",
       " 7744,\n",
       " 7921,\n",
       " 8100,\n",
       " 8281,\n",
       " 8464,\n",
       " 8649,\n",
       " 8836,\n",
       " 9025,\n",
       " 9216,\n",
       " 9409,\n",
       " 9604,\n",
       " 9801]"
      ]
     },
     "execution_count": 126,
     "metadata": {},
     "output_type": "execute_result"
    }
   ],
   "source": [
    "y(a)"
   ]
  },
  {
   "cell_type": "markdown",
   "id": "110e4164",
   "metadata": {},
   "source": [
    "**q6 : Try to write a 10 Different different example of lambda function with a choice of your taks**"
   ]
  },
  {
   "cell_type": "code",
   "execution_count": null,
   "id": "6765cfdd",
   "metadata": {},
   "outputs": [],
   "source": [
    "** PENDING **"
   ]
  },
  {
   "cell_type": "markdown",
   "id": "f5f7db9c",
   "metadata": {},
   "source": [
    "**q7 : Try to wwrite a funtion whihc can perform a read operation from .txt file**"
   ]
  },
  {
   "cell_type": "code",
   "execution_count": null,
   "id": "250d0d64",
   "metadata": {},
   "outputs": [],
   "source": [
    "** PENDING **"
   ]
  }
 ],
 "metadata": {
  "kernelspec": {
   "display_name": "Python 3 (ipykernel)",
   "language": "python",
   "name": "python3"
  },
  "language_info": {
   "codemirror_mode": {
    "name": "ipython",
    "version": 3
   },
   "file_extension": ".py",
   "mimetype": "text/x-python",
   "name": "python",
   "nbconvert_exporter": "python",
   "pygments_lexer": "ipython3",
   "version": "3.9.16"
  }
 },
 "nbformat": 4,
 "nbformat_minor": 5
}

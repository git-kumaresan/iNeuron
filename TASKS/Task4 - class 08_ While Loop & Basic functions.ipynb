{
 "cells": [
  {
   "cell_type": "markdown",
   "id": "f7882137",
   "metadata": {},
   "source": [
    "### Task 4 - Class 8 - While loop & basic functions"
   ]
  },
  {
   "cell_type": "code",
   "execution_count": null,
   "id": "0f814138",
   "metadata": {},
   "outputs": [],
   "source": [
    "\"\"\"\n",
    "q1 :try to print this by using while loop\n",
    "*\n",
    "**\n",
    "***\n",
    "****\n",
    "*****\n",
    "******\n",
    "*******\n",
    "********\n",
    "*********\n",
    "\n",
    "q2: try to print below using while loop\n",
    "\n",
    "A\n",
    "B H\n",
    "C I N\n",
    "D J O S\n",
    "E K P T W\n",
    "F L Q U X Z\n",
    "G M R V Y\n",
    "\n",
    "Q3: try to print all the number divisible by 3 in between a range of 40-400\n",
    "Q4: Try to filter out all the vowels from below test by using while loop\n",
    "\n",
    "Python is a high-level, general-purpose programming language. Its design philosophy emphasizes code readability with the use of significant indentation via the off-side rule.\n",
    "\n",
    "Python is dynamically typed and garbage-collected. It supports multiple programming paradigms, including structured (particularly procedural), object-oriented and functional programming. It is often described as a \"batteries included\" language due to its comprehensive standard library.\n",
    "\n",
    "Guido van Rossum began working on Python in the late 1980s as a successor to the ABC programming language and first released it in 1991 as Python 0.9.0. Python 2.0 was released in 2000. Python 3.0, released in 2008, was a major revision not completely backward-compatible with earlier versions. Python 2.7.18, released in 2020, was the last release of Python 2.\n",
    "\n",
    "Python consistently ranks as one of the most popular programming languages.\n",
    "\n",
    "Q5:try to generate al the even number between 1- 1000\n",
    "Q6: define a function for all the above problem statement\n",
    "Q7: write a code to get a time of your system\n",
    "q8: write a code to fetch date from your system\n",
    "q9: write a code to send a mail to your friend\n",
    "q10: write a code to trigger alarm for you at scheduled time\n",
    "q11: write a code to check ip address of your system\n",
    "q12: write a code to check a particular installation in your system\n",
    "q13: write a code to convert any text into voice\n",
    "q14: you have to write a fun which will take string and return a len of it without using a inbuild len\n",
    "q15: write a fun which will be able to print an index of all permitive element which you will pass\n",
    "q16: write a fun which will take input as a dict and give me out a list of all the values \n",
    "    even in case of 2 level nesting it should work\n",
    "q17: write a fun which will take multiplelist as input and give me conatnation of all the element as an output\n",
    "q18: write a fun which will would return list of all the file name from a directory\n",
    "q19: write a fun which will be able to read a image file and show it to you\n",
    "q20: write a fun by which you will be able to append two pdf files\n",
    "q21: write a fun which can help you to filter only word file from a directory\n",
    "q22: write a fun which can read video file and play for you\n",
    "q23: write a fun which will be able to sutdown your system\n",
    "q24: write a fun which will would return list of all the file name from a directory.\n",
    "q25: write a function which will be able to access your mail.\n",
    "\"\"\""
   ]
  },
  {
   "cell_type": "markdown",
   "id": "a7b30992",
   "metadata": {},
   "source": [
    "\n",
    "**q1 :try to print this by using while loop**"
   ]
  },
  {
   "cell_type": "code",
   "execution_count": null,
   "id": "65c4888e",
   "metadata": {},
   "outputs": [],
   "source": [
    "*\n",
    "**\n",
    "***\n",
    "****\n",
    "*****\n",
    "******\n",
    "*******\n",
    "********\n",
    "*********"
   ]
  },
  {
   "cell_type": "code",
   "execution_count": 14,
   "id": "c336ae2d",
   "metadata": {},
   "outputs": [
    {
     "name": "stdout",
     "output_type": "stream",
     "text": [
      "          *\n",
      "         **\n",
      "        ***\n",
      "       ****\n",
      "      *****\n",
      "      ******\n",
      "      *******\n",
      "      ********\n",
      "      *********\n"
     ]
    }
   ],
   "source": [
    "n = 9\n",
    "x = 5\n",
    "for i in range(n):\n",
    "    print(\" \"*5, end = \"\")\n",
    "    print(\" \"*(x-1), \"*\"*(i+1))\n",
    "    x=x-1\n",
    "    \n",
    "    "
   ]
  },
  {
   "cell_type": "markdown",
   "id": "018be16a",
   "metadata": {},
   "source": [
    "**q2: try to print below using while loop**"
   ]
  },
  {
   "cell_type": "code",
   "execution_count": null,
   "id": "e4b41dec",
   "metadata": {},
   "outputs": [],
   "source": [
    "A\n",
    "B H\n",
    "C I N\n",
    "D J O S\n",
    "E K P T W\n",
    "F L Q U X Z\n",
    "G M R V Y"
   ]
  },
  {
   "cell_type": "code",
   "execution_count": null,
   "id": "dd14563f",
   "metadata": {},
   "outputs": [],
   "source": [
    "**PENDING**"
   ]
  },
  {
   "cell_type": "code",
   "execution_count": null,
   "id": "7e81f476",
   "metadata": {},
   "outputs": [],
   "source": []
  },
  {
   "cell_type": "markdown",
   "id": "c3160a58",
   "metadata": {},
   "source": [
    "**Q3: try to print all the number divisible by 3 in between a range of 40-400**"
   ]
  },
  {
   "cell_type": "code",
   "execution_count": 22,
   "id": "b85fc108",
   "metadata": {},
   "outputs": [
    {
     "name": "stdout",
     "output_type": "stream",
     "text": [
      "42\n",
      "45\n",
      "48\n",
      "51\n",
      "54\n",
      "57\n",
      "60\n",
      "63\n",
      "66\n",
      "69\n",
      "72\n",
      "75\n",
      "78\n",
      "81\n",
      "84\n",
      "87\n",
      "90\n",
      "93\n",
      "96\n",
      "99\n",
      "102\n",
      "105\n",
      "108\n",
      "111\n",
      "114\n",
      "117\n",
      "120\n",
      "123\n",
      "126\n",
      "129\n",
      "132\n",
      "135\n",
      "138\n",
      "141\n",
      "144\n",
      "147\n",
      "150\n",
      "153\n",
      "156\n",
      "159\n",
      "162\n",
      "165\n",
      "168\n",
      "171\n",
      "174\n",
      "177\n",
      "180\n",
      "183\n",
      "186\n",
      "189\n",
      "192\n",
      "195\n",
      "198\n",
      "201\n",
      "204\n",
      "207\n",
      "210\n",
      "213\n",
      "216\n",
      "219\n",
      "222\n",
      "225\n",
      "228\n",
      "231\n",
      "234\n",
      "237\n",
      "240\n",
      "243\n",
      "246\n",
      "249\n",
      "252\n",
      "255\n",
      "258\n",
      "261\n",
      "264\n",
      "267\n",
      "270\n",
      "273\n",
      "276\n",
      "279\n",
      "282\n",
      "285\n",
      "288\n",
      "291\n",
      "294\n",
      "297\n",
      "300\n",
      "303\n",
      "306\n",
      "309\n",
      "312\n",
      "315\n",
      "318\n",
      "321\n",
      "324\n",
      "327\n",
      "330\n",
      "333\n",
      "336\n",
      "339\n",
      "342\n",
      "345\n",
      "348\n",
      "351\n",
      "354\n",
      "357\n",
      "360\n",
      "363\n",
      "366\n",
      "369\n",
      "372\n",
      "375\n",
      "378\n",
      "381\n",
      "384\n",
      "387\n",
      "390\n",
      "393\n",
      "396\n",
      "399\n"
     ]
    }
   ],
   "source": [
    "\n",
    "for i in range(40,401):\n",
    "    if i%3==0:\n",
    "        print(i)"
   ]
  },
  {
   "cell_type": "markdown",
   "id": "f7fac991",
   "metadata": {},
   "source": [
    "**Q4: Try to filter out all the vowels from below test by using while loop**"
   ]
  },
  {
   "cell_type": "code",
   "execution_count": 35,
   "id": "356ea507",
   "metadata": {},
   "outputs": [],
   "source": [
    "s = \"\"\"Python is a high-level, general-purpose programming language. Its design philosophy emphasizes code readability with the use of significant indentation via the off-side rule.\n",
    "\n",
    "Python is dynamically typed and garbage-collected. It supports multiple programming paradigms, including structured (particularly procedural), object-oriented and functional programming. It is often described as a \"batteries included\" language due to its comprehensive standard library.\n",
    "\n",
    "Guido van Rossum began working on Python in the late 1980s as a successor to the ABC programming language and first released it in 1991 as Python 0.9.0. Python 2.0 was released in 2000. Python 3.0, released in 2008, was a major revision not completely backward-compatible with earlier versions. Python 2.7.18, released in 2020, was the last release of Python 2.\n",
    "\n",
    "Python consistently ranks as one of the most popular programming languages. \"\"\""
   ]
  },
  {
   "cell_type": "code",
   "execution_count": 37,
   "id": "cc54ea6e",
   "metadata": {},
   "outputs": [
    {
     "name": "stdout",
     "output_type": "stream",
     "text": [
      "oiaieeeeauoeoaiauaeIeiiooeaieoeeaaiiieueoiiiaieaioiaeoieueoiaiaeaaaeoeeIuouieoaiaaiiuiuueaiuaoeuaoeoieeauioaoaiIioeeieaaaeieiueauaeueoioeeieaaiauioaoueaoiooieaeaaueooeAoaiauaeaieeaeiiaooaeeaeioeeaeiaaaoeiioooeeaaoaieieaieeiooeeaeiaeaeeaeooooieaaoeoeoouaoaiauae\n"
     ]
    }
   ],
   "source": [
    "# seperating vowels alone\n",
    "vowels = \"aeiouAEIOU\"\n",
    "result = \"\"\n",
    "\n",
    "i = 0\n",
    "while i < len(s):\n",
    "    if s[i] in vowels:\n",
    "        result += s[i]\n",
    "    i += 1\n",
    "\n",
    "print(result)"
   ]
  },
  {
   "cell_type": "code",
   "execution_count": 38,
   "id": "c174de81",
   "metadata": {},
   "outputs": [
    {
     "name": "stdout",
     "output_type": "stream",
     "text": [
      "Pythn s  hgh-lvl, gnrl-prps prgrmmng lngg. ts dsgn phlsphy mphszs cd rdblty wth th s f sgnfcnt ndnttn v th ff-sd rl.\n",
      "\n",
      "Pythn s dynmclly typd nd grbg-cllctd. t spprts mltpl prgrmmng prdgms, ncldng strctrd (prtclrly prcdrl), bjct-rntd nd fnctnl prgrmmng. t s ftn dscrbd s  \"bttrs ncldd\" lngg d t ts cmprhnsv stndrd lbrry.\n",
      "\n",
      "Gd vn Rssm bgn wrkng n Pythn n th lt 1980s s  sccssr t th BC prgrmmng lngg nd frst rlsd t n 1991 s Pythn 0.9.0. Pythn 2.0 ws rlsd n 2000. Pythn 3.0, rlsd n 2008, ws  mjr rvsn nt cmpltly bckwrd-cmptbl wth rlr vrsns. Pythn 2.7.18, rlsd n 2020, ws th lst rls f Pythn 2.\n",
      "\n",
      "Pythn cnsstntly rnks s n f th mst pplr prgrmmng lnggs. \n"
     ]
    }
   ],
   "source": [
    "# eliminating vowels \n",
    "vowels = \"aeiouAEIOU\"\n",
    "result = \"\"\n",
    "\n",
    "i = 0\n",
    "while i < len(s):\n",
    "    if s[i] not in vowels:\n",
    "        result += s[i]\n",
    "    i += 1\n",
    "\n",
    "print(result)"
   ]
  },
  {
   "cell_type": "markdown",
   "id": "d0f3e6db",
   "metadata": {},
   "source": [
    "**Q5:try to generate al the even number between 1- 1000**"
   ]
  },
  {
   "cell_type": "code",
   "execution_count": 33,
   "id": "18e3fceb",
   "metadata": {},
   "outputs": [
    {
     "name": "stdout",
     "output_type": "stream",
     "text": [
      "[0, 2, 4, 6, 8, 10, 12, 14, 16, 18, 20, 22, 24, 26, 28, 30, 32, 34, 36, 38, 40, 42, 44, 46, 48, 50, 52, 54, 56, 58, 60, 62, 64, 66, 68, 70, 72, 74, 76, 78, 80, 82, 84, 86, 88, 90, 92, 94, 96, 98, 100, 102, 104, 106, 108, 110, 112, 114, 116, 118, 120, 122, 124, 126, 128, 130, 132, 134, 136, 138, 140, 142, 144, 146, 148, 150, 152, 154, 156, 158, 160, 162, 164, 166, 168, 170, 172, 174, 176, 178, 180, 182, 184, 186, 188, 190, 192, 194, 196, 198, 200, 202, 204, 206, 208, 210, 212, 214, 216, 218, 220, 222, 224, 226, 228, 230, 232, 234, 236, 238, 240, 242, 244, 246, 248, 250, 252, 254, 256, 258, 260, 262, 264, 266, 268, 270, 272, 274, 276, 278, 280, 282, 284, 286, 288, 290, 292, 294, 296, 298, 300, 302, 304, 306, 308, 310, 312, 314, 316, 318, 320, 322, 324, 326, 328, 330, 332, 334, 336, 338, 340, 342, 344, 346, 348, 350, 352, 354, 356, 358, 360, 362, 364, 366, 368, 370, 372, 374, 376, 378, 380, 382, 384, 386, 388, 390, 392, 394, 396, 398, 400, 402, 404, 406, 408, 410, 412, 414, 416, 418, 420, 422, 424, 426, 428, 430, 432, 434, 436, 438, 440, 442, 444, 446, 448, 450, 452, 454, 456, 458, 460, 462, 464, 466, 468, 470, 472, 474, 476, 478, 480, 482, 484, 486, 488, 490, 492, 494, 496, 498, 500, 502, 504, 506, 508, 510, 512, 514, 516, 518, 520, 522, 524, 526, 528, 530, 532, 534, 536, 538, 540, 542, 544, 546, 548, 550, 552, 554, 556, 558, 560, 562, 564, 566, 568, 570, 572, 574, 576, 578, 580, 582, 584, 586, 588, 590, 592, 594, 596, 598, 600, 602, 604, 606, 608, 610, 612, 614, 616, 618, 620, 622, 624, 626, 628, 630, 632, 634, 636, 638, 640, 642, 644, 646, 648, 650, 652, 654, 656, 658, 660, 662, 664, 666, 668, 670, 672, 674, 676, 678, 680, 682, 684, 686, 688, 690, 692, 694, 696, 698, 700, 702, 704, 706, 708, 710, 712, 714, 716, 718, 720, 722, 724, 726, 728, 730, 732, 734, 736, 738, 740, 742, 744, 746, 748, 750, 752, 754, 756, 758, 760, 762, 764, 766, 768, 770, 772, 774, 776, 778, 780, 782, 784, 786, 788, 790, 792, 794, 796, 798, 800, 802, 804, 806, 808, 810, 812, 814, 816, 818, 820, 822, 824, 826, 828, 830, 832, 834, 836, 838, 840, 842, 844, 846, 848, 850, 852, 854, 856, 858, 860, 862, 864, 866, 868, 870, 872, 874, 876, 878, 880, 882, 884, 886, 888, 890, 892, 894, 896, 898, 900, 902, 904, 906, 908, 910, 912, 914, 916, 918, 920, 922, 924, 926, 928, 930, 932, 934, 936, 938, 940, 942, 944, 946, 948, 950, 952, 954, 956, 958, 960, 962, 964, 966, 968, 970, 972, 974, 976, 978, 980, 982, 984, 986, 988, 990, 992, 994, 996, 998, 1000]\n"
     ]
    }
   ],
   "source": [
    "evnnum = []\n",
    "for i in range(1001):\n",
    "    if i%2 ==0:\n",
    "        evnnum.append(i)\n",
    "print(evnnum)"
   ]
  },
  {
   "cell_type": "markdown",
   "id": "a264b83d",
   "metadata": {},
   "source": [
    "**Q6: define a function for all the above problem statement**"
   ]
  },
  {
   "cell_type": "code",
   "execution_count": 30,
   "id": "47a57c95",
   "metadata": {},
   "outputs": [
    {
     "ename": "TypeError",
     "evalue": "can't multiply sequence by non-int of type 'float'",
     "output_type": "error",
     "traceback": [
      "\u001b[1;31m---------------------------------------------------------------------------\u001b[0m",
      "\u001b[1;31mTypeError\u001b[0m                                 Traceback (most recent call last)",
      "Cell \u001b[1;32mIn[30], line 17\u001b[0m\n\u001b[0;32m     11\u001b[0m     x\u001b[38;5;241m=\u001b[39mx\u001b[38;5;241m-\u001b[39m\u001b[38;5;241m1\u001b[39m\n\u001b[0;32m     15\u001b[0m \u001b[38;5;66;03m#n = int(input(\"please enter the no of occurence :\"))\u001b[39;00m\n\u001b[1;32m---> 17\u001b[0m \u001b[43mpt_st\u001b[49m\u001b[43m(\u001b[49m\u001b[38;5;241;43m5\u001b[39;49m\u001b[43m)\u001b[49m\n",
      "Cell \u001b[1;32mIn[30], line 9\u001b[0m, in \u001b[0;36mpt_st\u001b[1;34m(a)\u001b[0m\n\u001b[0;32m      7\u001b[0m i \u001b[38;5;241m=\u001b[39m\u001b[38;5;241m1\u001b[39m\n\u001b[0;32m      8\u001b[0m \u001b[38;5;28;01mfor\u001b[39;00m i \u001b[38;5;129;01min\u001b[39;00m \u001b[38;5;28mrange\u001b[39m(a):\n\u001b[1;32m----> 9\u001b[0m     \u001b[38;5;28mprint\u001b[39m(\u001b[38;5;124;43m\"\u001b[39;49m\u001b[38;5;124;43m \u001b[39;49m\u001b[38;5;124;43m\"\u001b[39;49m\u001b[38;5;241;43m*\u001b[39;49m\u001b[43mx\u001b[49m, end \u001b[38;5;241m=\u001b[39m \u001b[38;5;124m\"\u001b[39m\u001b[38;5;124m\"\u001b[39m)\n\u001b[0;32m     10\u001b[0m     \u001b[38;5;28mprint\u001b[39m(\u001b[38;5;124m\"\u001b[39m\u001b[38;5;124m \u001b[39m\u001b[38;5;124m\"\u001b[39m\u001b[38;5;241m*\u001b[39m(x\u001b[38;5;241m-\u001b[39m\u001b[38;5;241m1\u001b[39m), \u001b[38;5;124m\"\u001b[39m\u001b[38;5;124m*\u001b[39m\u001b[38;5;124m\"\u001b[39m\u001b[38;5;241m*\u001b[39m(i\u001b[38;5;241m+\u001b[39m\u001b[38;5;241m1\u001b[39m))\n\u001b[0;32m     11\u001b[0m x\u001b[38;5;241m=\u001b[39mx\u001b[38;5;241m-\u001b[39m\u001b[38;5;241m1\u001b[39m\n",
      "\u001b[1;31mTypeError\u001b[0m: can't multiply sequence by non-int of type 'float'"
     ]
    }
   ],
   "source": [
    "def pt_st(a):\n",
    "    \" function of print stars\"\n",
    "    if a%2 == 0:\n",
    "        x =a/2\n",
    "    else:\n",
    "        x = (a+1)/2\n",
    "    i =1\n",
    "    for i in range(a):\n",
    "        print(\" \"*x, end = \"\")\n",
    "        print(\" \"*(x-1), \"*\"*(i+1))\n",
    "    x=x-1\n",
    "\n",
    "\n",
    "\n",
    "#n = int(input(\"please enter the no of occurence :\"))\n",
    "\n",
    "pt_st(5)"
   ]
  },
  {
   "cell_type": "code",
   "execution_count": 25,
   "id": "7bf0baa2",
   "metadata": {},
   "outputs": [
    {
     "name": "stdout",
     "output_type": "stream",
     "text": [
      "* \n",
      "* * \n",
      "* * * \n",
      "* * * * \n",
      "* * * * * \n",
      "* * * * * * \n",
      "* * * * * * * \n",
      "* * * * * * * * \n",
      "* * * * * * * * * \n"
     ]
    }
   ],
   "source": [
    "def pattern1(n):\n",
    "    \"The function prints triangle for provided 'n' of '*'s\"\n",
    "    i = 1\n",
    "    while i <= n :\n",
    "        j = 1\n",
    "        while j <= i:\n",
    "            print(\"*\", end = \" \")\n",
    "            j += 1\n",
    "        print()\n",
    "        i += 1\n",
    "\n",
    "pattern1(9)"
   ]
  },
  {
   "cell_type": "code",
   "execution_count": 26,
   "id": "6a629926",
   "metadata": {},
   "outputs": [
    {
     "data": {
      "text/plain": [
       "[6,\n",
       " 9,\n",
       " 12,\n",
       " 15,\n",
       " 18,\n",
       " 21,\n",
       " 24,\n",
       " 27,\n",
       " 30,\n",
       " 33,\n",
       " 36,\n",
       " 39,\n",
       " 42,\n",
       " 45,\n",
       " 48,\n",
       " 51,\n",
       " 54,\n",
       " 57,\n",
       " 60,\n",
       " 63,\n",
       " 66,\n",
       " 69,\n",
       " 72,\n",
       " 75,\n",
       " 78,\n",
       " 81,\n",
       " 84,\n",
       " 87,\n",
       " 90,\n",
       " 93,\n",
       " 96,\n",
       " 99]"
      ]
     },
     "execution_count": 26,
     "metadata": {},
     "output_type": "execute_result"
    }
   ],
   "source": [
    "def chk_divid_3(a, b):\n",
    "    \"The function list out all possible numbers that can be divided by 3, between ranges a, b\"\n",
    "    i = a\n",
    "    l = []\n",
    "    for i in range(a,b):\n",
    "        if i%3==0:\n",
    "            #print(i)  # printing result individually\n",
    "            l.append(i)\n",
    "            i +=1\n",
    "    return(l)  #  to return result as list \n",
    "chk_divid_3(4,100)\n",
    "\n"
   ]
  },
  {
   "cell_type": "code",
   "execution_count": 27,
   "id": "33cc4335",
   "metadata": {},
   "outputs": [],
   "source": [
    "def elim_vowels(s):\n",
    "    \"Function to remove vowels from given string\"\n",
    "    vowels = \"aeiouAEIOU\"\n",
    "    result = \"\"\n",
    "    i = 0\n",
    "    while i < len(s):\n",
    "        if s[i] not in vowels:\n",
    "            result += s[i]\n",
    "        i += 1\n",
    "\n",
    "    return(result)"
   ]
  },
  {
   "cell_type": "code",
   "execution_count": 21,
   "id": "63ed0c3c",
   "metadata": {},
   "outputs": [],
   "source": [
    "s = \" mani kumar\""
   ]
  },
  {
   "cell_type": "code",
   "execution_count": 22,
   "id": "d33de1cb",
   "metadata": {},
   "outputs": [
    {
     "data": {
      "text/plain": [
       "' mn kmr'"
      ]
     },
     "execution_count": 22,
     "metadata": {},
     "output_type": "execute_result"
    }
   ],
   "source": [
    "elim_vowels(s)"
   ]
  },
  {
   "cell_type": "code",
   "execution_count": 28,
   "id": "fed4ffdb",
   "metadata": {},
   "outputs": [],
   "source": [
    "def seperate_vowels(s):\n",
    "    \"Function to seperate vowels form provided string \"\n",
    "    vowels = \"aeiouAEIOU\"\n",
    "    result = \"\"\n",
    "\n",
    "    i = 0\n",
    "    while i < len(s):\n",
    "        if s[i] in vowels:\n",
    "            result += s[i]\n",
    "        i += 1\n",
    "\n",
    "    return(result)"
   ]
  },
  {
   "cell_type": "code",
   "execution_count": 29,
   "id": "674e3f7e",
   "metadata": {},
   "outputs": [
    {
     "data": {
      "text/plain": [
       "'aiua'"
      ]
     },
     "execution_count": 29,
     "metadata": {},
     "output_type": "execute_result"
    }
   ],
   "source": [
    "seperate_vowels(s)"
   ]
  },
  {
   "cell_type": "code",
   "execution_count": 45,
   "id": "af0d63f5",
   "metadata": {},
   "outputs": [],
   "source": [
    "def find_even_num(x):\n",
    "    \" Function to find all possible even numbers from range 0 to given number \"\n",
    "    evnnum = []\n",
    "    i = 1\n",
    "    for i in range(x):\n",
    "        if i%2 ==0:\n",
    "            evnnum.append(i)\n",
    "    #print(evnnum)\n",
    "    return(evnnum)"
   ]
  },
  {
   "cell_type": "code",
   "execution_count": 46,
   "id": "f321d843",
   "metadata": {},
   "outputs": [
    {
     "data": {
      "text/plain": [
       "[0, 2, 4]"
      ]
     },
     "execution_count": 46,
     "metadata": {},
     "output_type": "execute_result"
    }
   ],
   "source": [
    "find_even_num(5)"
   ]
  },
  {
   "cell_type": "code",
   "execution_count": 47,
   "id": "cc6ab5e8",
   "metadata": {},
   "outputs": [
    {
     "name": "stdout",
     "output_type": "stream",
     "text": [
      "Plz enter the number: 10\n"
     ]
    },
    {
     "data": {
      "text/plain": [
       "[0, 2, 4, 6, 8]"
      ]
     },
     "execution_count": 47,
     "metadata": {},
     "output_type": "execute_result"
    }
   ],
   "source": [
    "x = int(input(\"Plz enter the number: \"))\n",
    "\n",
    "find_even_num(x)"
   ]
  },
  {
   "cell_type": "markdown",
   "id": "0716e9b8",
   "metadata": {},
   "source": [
    "**Q7: write a code to get a time of your system**"
   ]
  },
  {
   "cell_type": "code",
   "execution_count": 65,
   "id": "8261807a",
   "metadata": {},
   "outputs": [
    {
     "data": {
      "text/plain": [
       "'Wed Jul 26 07:45:37 2023'"
      ]
     },
     "execution_count": 65,
     "metadata": {},
     "output_type": "execute_result"
    }
   ],
   "source": [
    "import datetime\n",
    "\n",
    "time = datetime.datetime.now()\n",
    "\n",
    "current = time.ctime()\n",
    "current\n"
   ]
  },
  {
   "cell_type": "code",
   "execution_count": 52,
   "id": "95703780",
   "metadata": {},
   "outputs": [
    {
     "name": "stdout",
     "output_type": "stream",
     "text": [
      "Current Time = 07:41:39\n"
     ]
    }
   ],
   "source": [
    "from datetime import datetime\n",
    "\n",
    "now = datetime.now()\n",
    "current_time = now.strftime(\"%H:%M:%S\")\n",
    "print(\"Current Time =\", current_time)\n"
   ]
  },
  {
   "cell_type": "markdown",
   "id": "a57c7b27",
   "metadata": {},
   "source": [
    "**q8: write a code to fetch date from your system**"
   ]
  },
  {
   "cell_type": "code",
   "execution_count": 71,
   "id": "37560c66",
   "metadata": {},
   "outputs": [
    {
     "name": "stdout",
     "output_type": "stream",
     "text": [
      "Current Date = July 26, 2023\n"
     ]
    }
   ],
   "source": [
    "from datetime import date\n",
    "\n",
    "today = date.today()\n",
    "current_date = today.strftime(\"%B %d, %Y\")\n",
    "print(\"Current Date =\", current_date)\n"
   ]
  },
  {
   "cell_type": "markdown",
   "id": "f8015b0b",
   "metadata": {},
   "source": [
    "**q9: write a code to send a mail to your friend**"
   ]
  },
  {
   "cell_type": "code",
   "execution_count": null,
   "id": "a2bc0f18",
   "metadata": {},
   "outputs": [],
   "source": [
    "**PENDING**"
   ]
  },
  {
   "cell_type": "markdown",
   "id": "fb9c2bfd",
   "metadata": {},
   "source": [
    "**q10: write a code to trigger alarm for you at scheduled time**"
   ]
  },
  {
   "cell_type": "code",
   "execution_count": null,
   "id": "45262717",
   "metadata": {},
   "outputs": [],
   "source": [
    "**PENDING**"
   ]
  },
  {
   "cell_type": "markdown",
   "id": "f651742a",
   "metadata": {},
   "source": [
    "**q11: write a code to check ip address of your system**"
   ]
  },
  {
   "cell_type": "code",
   "execution_count": 76,
   "id": "596ecb9b",
   "metadata": {},
   "outputs": [
    {
     "name": "stdout",
     "output_type": "stream",
     "text": [
      "Your Computer Name is:kumaka_aspire7\n",
      "Your Computer IP Address is:\n"
     ]
    }
   ],
   "source": [
    "import socket   \n",
    "hostname = socket.gethostname()   \n",
    "IPAddr = socket.gethostbyname(hostname)   \n",
    "print(\"Your Computer Name is:\" + hostname)   \n",
    "print(\"Your Computer IP Address is:\" )"
   ]
  },
  {
   "cell_type": "markdown",
   "id": "a131507f",
   "metadata": {},
   "source": [
    "**q12: write a code to check a particular installation in your system**"
   ]
  },
  {
   "cell_type": "code",
   "execution_count": null,
   "id": "13e3a719",
   "metadata": {},
   "outputs": [],
   "source": [
    "**PENDING**"
   ]
  },
  {
   "cell_type": "markdown",
   "id": "ca59365e",
   "metadata": {},
   "source": [
    "**q13: write a code to convert any text into voice**"
   ]
  },
  {
   "cell_type": "code",
   "execution_count": null,
   "id": "077a7dd8",
   "metadata": {},
   "outputs": [],
   "source": [
    "**PENDING**"
   ]
  },
  {
   "cell_type": "markdown",
   "id": "40be6a44",
   "metadata": {},
   "source": [
    "**q14: you have to write a fun which will take string and return a len of it without using a inbuild len**"
   ]
  },
  {
   "cell_type": "code",
   "execution_count": 78,
   "id": "dcd2aa5b",
   "metadata": {},
   "outputs": [
    {
     "name": "stdout",
     "output_type": "stream",
     "text": [
      "Please enter the string : 12554\n",
      "The length of string 12554 is : 5\n"
     ]
    }
   ],
   "source": [
    "def str_len(x):\n",
    "    \"Function to find out the length of any given string\"\n",
    "    st = str(x)\n",
    "    cnt = 0\n",
    "    for i in st:\n",
    "        cnt+=1\n",
    "    return cnt\n",
    "\n",
    "a = str(input(\"Please enter the string : \"))\n",
    "\n",
    "print(f\"The length of string {a} is :\", str_len(a))\n"
   ]
  },
  {
   "cell_type": "markdown",
   "id": "c71eeaeb",
   "metadata": {},
   "source": [
    "**q15: write a fun which will be able to print an index of all permitive element which you will pass**"
   ]
  },
  {
   "cell_type": "code",
   "execution_count": 79,
   "id": "d1460e48",
   "metadata": {},
   "outputs": [],
   "source": [
    "def get_primitive_indices(lst):\n",
    "    primitive_types = (int, float, str, bool)\n",
    "    indices = []\n",
    "    for i, element in enumerate(lst):\n",
    "        if isinstance(element, primitive_types):\n",
    "            indices.append(i)\n",
    "    return indices\n"
   ]
  },
  {
   "cell_type": "code",
   "execution_count": 80,
   "id": "b76e28a9",
   "metadata": {},
   "outputs": [],
   "source": [
    "ll = [1,16,17,[1,2,3,4,5]]"
   ]
  },
  {
   "cell_type": "code",
   "execution_count": 81,
   "id": "5ba53305",
   "metadata": {},
   "outputs": [
    {
     "data": {
      "text/plain": [
       "[0, 1, 2]"
      ]
     },
     "execution_count": 81,
     "metadata": {},
     "output_type": "execute_result"
    }
   ],
   "source": [
    "get_primitive_indices(ll)"
   ]
  },
  {
   "cell_type": "code",
   "execution_count": null,
   "id": "68fee55e",
   "metadata": {},
   "outputs": [],
   "source": [
    "**PENDING**"
   ]
  },
  {
   "cell_type": "markdown",
   "id": "a2c2965f",
   "metadata": {},
   "source": [
    "**q16: write a fun which will take input as a dict and give me out a list of all the values \n",
    "    even in case of 2 level nesting it should work**"
   ]
  },
  {
   "cell_type": "code",
   "execution_count": null,
   "id": "7771ecc8",
   "metadata": {},
   "outputs": [],
   "source": []
  },
  {
   "cell_type": "code",
   "execution_count": null,
   "id": "21be96c1",
   "metadata": {},
   "outputs": [],
   "source": []
  },
  {
   "cell_type": "code",
   "execution_count": null,
   "id": "6c37e01f",
   "metadata": {},
   "outputs": [],
   "source": []
  }
 ],
 "metadata": {
  "kernelspec": {
   "display_name": "Python 3 (ipykernel)",
   "language": "python",
   "name": "python3"
  },
  "language_info": {
   "codemirror_mode": {
    "name": "ipython",
    "version": 3
   },
   "file_extension": ".py",
   "mimetype": "text/x-python",
   "name": "python",
   "nbconvert_exporter": "python",
   "pygments_lexer": "ipython3",
   "version": "3.9.16"
  }
 },
 "nbformat": 4,
 "nbformat_minor": 5
}

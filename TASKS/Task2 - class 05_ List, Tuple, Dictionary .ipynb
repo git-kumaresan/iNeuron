{
 "cells": [
  {
   "cell_type": "markdown",
   "id": "20c872ca",
   "metadata": {},
   "source": [
    "### Task 2 - List, Tuple, Dictionary "
   ]
  },
  {
   "cell_type": "code",
   "execution_count": null,
   "id": "e875b075",
   "metadata": {},
   "outputs": [],
   "source": [
    "Questions:\n",
    "\n",
    "l =[3,4,5,6,7,[23,456,67,8,78,78], [345,56,87,8,98,9], (234,6657,6), {\"key1\" : \"sudh\", 234:[23,45,656]}]\n",
    "\n",
    "1. try to reverse a list \n",
    "2. try to access 234 out of this list \n",
    "3. try to access 456 \n",
    "4. try to extract only a list collection from list l\n",
    "5. try to extract 'sudh'\n",
    "6. try to list all the key in dicr elemment available in list\n",
    "7. try to extract all the value elements from dict available in list "
   ]
  },
  {
   "cell_type": "code",
   "execution_count": 1,
   "id": "cc8e097f",
   "metadata": {},
   "outputs": [],
   "source": [
    "l =[3,4,5,6,7,[23,456,67,8,78,78], [345,56,87,8,98,9], (234,6657,6), {\"key1\" : \"sudh\", 234:[23,45,656]}]"
   ]
  },
  {
   "cell_type": "code",
   "execution_count": 2,
   "id": "ef6fe45c",
   "metadata": {},
   "outputs": [
    {
     "data": {
      "text/plain": [
       "[3,\n",
       " 4,\n",
       " 5,\n",
       " 6,\n",
       " 7,\n",
       " [23, 456, 67, 8, 78, 78],\n",
       " [345, 56, 87, 8, 98, 9],\n",
       " (234, 6657, 6),\n",
       " {'key1': 'sudh', 234: [23, 45, 656]}]"
      ]
     },
     "execution_count": 2,
     "metadata": {},
     "output_type": "execute_result"
    }
   ],
   "source": [
    "l"
   ]
  },
  {
   "cell_type": "markdown",
   "id": "9d9f99f9",
   "metadata": {},
   "source": [
    "**1. try to reverse a list**"
   ]
  },
  {
   "cell_type": "code",
   "execution_count": 6,
   "id": "b4a0c45e",
   "metadata": {},
   "outputs": [],
   "source": [
    "l.reverse()\n"
   ]
  },
  {
   "cell_type": "code",
   "execution_count": 5,
   "id": "048f38e8",
   "metadata": {},
   "outputs": [
    {
     "data": {
      "text/plain": [
       "[3,\n",
       " 4,\n",
       " 5,\n",
       " 6,\n",
       " 7,\n",
       " [23, 456, 67, 8, 78, 78],\n",
       " [345, 56, 87, 8, 98, 9],\n",
       " (234, 6657, 6),\n",
       " {'key1': 'sudh', 234: [23, 45, 656]}]"
      ]
     },
     "execution_count": 5,
     "metadata": {},
     "output_type": "execute_result"
    }
   ],
   "source": [
    "l"
   ]
  },
  {
   "cell_type": "code",
   "execution_count": null,
   "id": "f8a15edb",
   "metadata": {},
   "outputs": [],
   "source": []
  },
  {
   "cell_type": "markdown",
   "id": "a8b153e3",
   "metadata": {},
   "source": [
    "**2. try to access 234 out of this list**"
   ]
  },
  {
   "cell_type": "code",
   "execution_count": 10,
   "id": "fefd38ac",
   "metadata": {},
   "outputs": [
    {
     "data": {
      "text/plain": [
       "[{'key1': 'sudh', 234: [23, 45, 656]},\n",
       " (234, 6657, 6),\n",
       " [345, 56, 87, 8, 98, 9],\n",
       " [23, 456, 67, 8, 78, 78],\n",
       " 7,\n",
       " 6,\n",
       " 5,\n",
       " 4,\n",
       " 3]"
      ]
     },
     "execution_count": 10,
     "metadata": {},
     "output_type": "execute_result"
    }
   ],
   "source": [
    "l"
   ]
  },
  {
   "cell_type": "code",
   "execution_count": 14,
   "id": "f52914ac",
   "metadata": {},
   "outputs": [
    {
     "data": {
      "text/plain": [
       "234"
      ]
     },
     "execution_count": 14,
     "metadata": {},
     "output_type": "execute_result"
    }
   ],
   "source": [
    "l[1][0] # accessing 234 from list "
   ]
  },
  {
   "cell_type": "code",
   "execution_count": 15,
   "id": "01e17a53",
   "metadata": {},
   "outputs": [
    {
     "data": {
      "text/plain": [
       "{'key1': 'sudh', 234: [23, 45, 656]}"
      ]
     },
     "execution_count": 15,
     "metadata": {},
     "output_type": "execute_result"
    }
   ],
   "source": [
    "l[0]"
   ]
  },
  {
   "cell_type": "code",
   "execution_count": 21,
   "id": "178c5c61",
   "metadata": {},
   "outputs": [
    {
     "data": {
      "text/plain": [
       "234"
      ]
     },
     "execution_count": 21,
     "metadata": {},
     "output_type": "execute_result"
    }
   ],
   "source": [
    "list(l[0].keys())[1]  # accessing 234 from dictionary "
   ]
  },
  {
   "cell_type": "markdown",
   "id": "cd9c6163",
   "metadata": {},
   "source": [
    "**3. try to access 456**"
   ]
  },
  {
   "cell_type": "code",
   "execution_count": 22,
   "id": "5872feaa",
   "metadata": {},
   "outputs": [
    {
     "data": {
      "text/plain": [
       "[{'key1': 'sudh', 234: [23, 45, 656]},\n",
       " (234, 6657, 6),\n",
       " [345, 56, 87, 8, 98, 9],\n",
       " [23, 456, 67, 8, 78, 78],\n",
       " 7,\n",
       " 6,\n",
       " 5,\n",
       " 4,\n",
       " 3]"
      ]
     },
     "execution_count": 22,
     "metadata": {},
     "output_type": "execute_result"
    }
   ],
   "source": [
    "l"
   ]
  },
  {
   "cell_type": "code",
   "execution_count": 23,
   "id": "2528be23",
   "metadata": {},
   "outputs": [
    {
     "data": {
      "text/plain": [
       "456"
      ]
     },
     "execution_count": 23,
     "metadata": {},
     "output_type": "execute_result"
    }
   ],
   "source": [
    "l[3][1]"
   ]
  },
  {
   "cell_type": "markdown",
   "id": "496d56e7",
   "metadata": {},
   "source": [
    "**4. try to extract only a list collection from list l**"
   ]
  },
  {
   "cell_type": "code",
   "execution_count": 24,
   "id": "da84f465",
   "metadata": {},
   "outputs": [
    {
     "data": {
      "text/plain": [
       "[{'key1': 'sudh', 234: [23, 45, 656]},\n",
       " (234, 6657, 6),\n",
       " [345, 56, 87, 8, 98, 9],\n",
       " [23, 456, 67, 8, 78, 78],\n",
       " 7,\n",
       " 6,\n",
       " 5,\n",
       " 4,\n",
       " 3]"
      ]
     },
     "execution_count": 24,
     "metadata": {},
     "output_type": "execute_result"
    }
   ],
   "source": [
    "l"
   ]
  },
  {
   "cell_type": "code",
   "execution_count": 28,
   "id": "84331dc2",
   "metadata": {},
   "outputs": [
    {
     "name": "stdout",
     "output_type": "stream",
     "text": [
      "[[345, 56, 87, 8, 98, 9], [23, 456, 67, 8, 78, 78]]\n"
     ]
    }
   ],
   "source": [
    "l = [{'key1': 'sudh', 234: [23, 45, 656]},\n",
    "     (234, 6657, 6),\n",
    "     [345, 56, 87, 8, 98, 9],\n",
    "     [23, 456, 67, 8, 78, 78],\n",
    "     7,\n",
    "     6,\n",
    "     5,\n",
    "     4,\n",
    "     3]\n",
    "\n",
    "lists = [item for item in l if isinstance(item, list)]\n",
    "\n",
    "print(lists)\n"
   ]
  },
  {
   "cell_type": "code",
   "execution_count": 34,
   "id": "4f369910",
   "metadata": {},
   "outputs": [
    {
     "name": "stdout",
     "output_type": "stream",
     "text": [
      "[[345, 56, 87, 8, 98, 9], [23, 456, 67, 8, 78, 78]]\n"
     ]
    }
   ],
   "source": [
    "listss = []\n",
    "for i in l:\n",
    "    if isinstance(i, list):\n",
    "        listss.append(i)\n",
    "\n",
    "print(listss)"
   ]
  },
  {
   "cell_type": "code",
   "execution_count": null,
   "id": "cab3c0ff",
   "metadata": {},
   "outputs": [],
   "source": []
  },
  {
   "cell_type": "markdown",
   "id": "1471c6d0",
   "metadata": {},
   "source": [
    "**5. try to extract 'sudh'**"
   ]
  },
  {
   "cell_type": "code",
   "execution_count": 30,
   "id": "fc273919",
   "metadata": {},
   "outputs": [
    {
     "data": {
      "text/plain": [
       "'sudh'"
      ]
     },
     "execution_count": 30,
     "metadata": {},
     "output_type": "execute_result"
    }
   ],
   "source": [
    "l[0]['key1']"
   ]
  },
  {
   "cell_type": "markdown",
   "id": "ebd092f9",
   "metadata": {},
   "source": [
    "**6. try to list all the key in dicr elemment available in list**"
   ]
  },
  {
   "cell_type": "code",
   "execution_count": 46,
   "id": "c8eb611f",
   "metadata": {},
   "outputs": [
    {
     "name": "stdout",
     "output_type": "stream",
     "text": [
      "all available keys:  ['key1', 234]\n",
      "All elements of dictionary : [{'key1': 'sudh', 234: [23, 45, 656]}]\n"
     ]
    }
   ],
   "source": [
    "l = [{'key1': 'sudh', 234: [23, 45, 656]},\n",
    "     (234, 6657, 6),\n",
    "     [345, 56, 87, 8, 98, 9],\n",
    "     [23, 456, 67, 8, 78, 78],\n",
    "     7,\n",
    "     6,\n",
    "     5,\n",
    "     4,\n",
    "     3]\n",
    "\n",
    "keys = []\n",
    "dict_elements = []\n",
    "for i in l:\n",
    "    if isinstance(i, dict):\n",
    "        keys.extend(list(i.keys()))\n",
    "        dict_elements.append(i)\n",
    "\n",
    "print(\"all available keys: \", keys)\n",
    "\n",
    "print('All elements of dictionary :', dict_elements)"
   ]
  },
  {
   "cell_type": "code",
   "execution_count": 55,
   "id": "bb77fc2d",
   "metadata": {},
   "outputs": [
    {
     "data": {
      "text/plain": [
       "dict_keys(['key1', 234])"
      ]
     },
     "execution_count": 55,
     "metadata": {},
     "output_type": "execute_result"
    }
   ],
   "source": [
    "l[0].keys()"
   ]
  },
  {
   "cell_type": "markdown",
   "id": "15d91ffb",
   "metadata": {},
   "source": [
    "**7. try to extract all the value elements from dict available in list**"
   ]
  },
  {
   "cell_type": "code",
   "execution_count": 54,
   "id": "8c1474eb",
   "metadata": {},
   "outputs": [
    {
     "name": "stdout",
     "output_type": "stream",
     "text": [
      "['sudh', [23, 45, 656]]\n",
      "[['sudh', [23, 45, 656]]]\n"
     ]
    }
   ],
   "source": [
    "l = [{'key1': 'sudh', 234: [23, 45, 656]},\n",
    "     (234, 6657, 6),\n",
    "     [345, 56, 87, 8, 98, 9],\n",
    "     [23, 456, 67, 8, 78, 78],\n",
    "     7,\n",
    "     6,\n",
    "     5,\n",
    "     4,\n",
    "     3]\n",
    "\n",
    "values = []\n",
    "val2 = []\n",
    "for i in l:\n",
    "    if isinstance(i, dict):\n",
    "        values.extend(list(i.values()))\n",
    "        val2.append(list(i.values()))\n",
    "        \n",
    "print(values)\n",
    "print(val2)"
   ]
  },
  {
   "cell_type": "code",
   "execution_count": 56,
   "id": "4ee68293",
   "metadata": {},
   "outputs": [
    {
     "data": {
      "text/plain": [
       "dict_values(['sudh', [23, 45, 656]])"
      ]
     },
     "execution_count": 56,
     "metadata": {},
     "output_type": "execute_result"
    }
   ],
   "source": [
    "l[0].values()"
   ]
  },
  {
   "cell_type": "code",
   "execution_count": null,
   "id": "c82c98e0",
   "metadata": {},
   "outputs": [],
   "source": []
  }
 ],
 "metadata": {
  "kernelspec": {
   "display_name": "Python 3 (ipykernel)",
   "language": "python",
   "name": "python3"
  },
  "language_info": {
   "codemirror_mode": {
    "name": "ipython",
    "version": 3
   },
   "file_extension": ".py",
   "mimetype": "text/x-python",
   "name": "python",
   "nbconvert_exporter": "python",
   "pygments_lexer": "ipython3",
   "version": "3.9.16"
  }
 },
 "nbformat": 4,
 "nbformat_minor": 5
}

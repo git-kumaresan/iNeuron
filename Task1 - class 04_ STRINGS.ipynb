{
 "cells": [
  {
   "cell_type": "markdown",
   "id": "489fc2b7",
   "metadata": {},
   "source": [
    "### Python String operations - TASK "
   ]
  },
  {
   "cell_type": "code",
   "execution_count": null,
   "id": "104817ee",
   "metadata": {},
   "outputs": [],
   "source": [
    "\n",
    "s= \"this is My First Python programming class and i am learNING python string and its function\"\n",
    "1.Try to extraxt data from index one to index 300 with a jump of 3\n",
    "2.try to reverse a string without using reverse function.\n",
    "3.Try to split a string after conversion of entire string in uppercase.\n",
    "4.try to convert the whole string into lower class.\n",
    "5.try to capitalize the whole string\n",
    "6.Write a diference between isalnum() and isalpha()\n",
    "7. try to give an example of expand tab\n",
    "8. Give an example of strip, lstrip and rstrip\n",
    "9.replace a string character by another character by taking your example.\n",
    "\"sudhanshu\"\n",
    "10. try to give a defination of string center function with an example.\n",
    "11. write your own definition of compiler adn interpretor without copy paste from internet in your own language.\n",
    "12. Python is a interpreted of compiled laguage give a clear ans with your understanding.\n",
    "13.try to write a usecase of python with your understanding.\n",
    " \n"
   ]
  },
  {
   "cell_type": "markdown",
   "id": "2c6d3c21",
   "metadata": {},
   "source": [
    "**Total questions: 13**  \n",
    "**Solved         : 13**  \n",
    "**Unsolved       : 0** "
   ]
  },
  {
   "cell_type": "code",
   "execution_count": 2,
   "id": "09bc5adf",
   "metadata": {},
   "outputs": [],
   "source": [
    "s= \"this is My First Python programming class and i am learNING python string and its function\""
   ]
  },
  {
   "cell_type": "markdown",
   "id": "997550d2",
   "metadata": {},
   "source": [
    "**Qestions**  \n",
    "    **1.Try to extraxt data from index one to index 300 with a jump of 3**"
   ]
  },
  {
   "cell_type": "code",
   "execution_count": 3,
   "id": "a690843e",
   "metadata": {},
   "outputs": [
    {
     "data": {
      "text/plain": [
       "'h   r tnrrmglsnimeNGyosi dtfco'"
      ]
     },
     "execution_count": 3,
     "metadata": {},
     "output_type": "execute_result"
    }
   ],
   "source": [
    "s[1:300:3]"
   ]
  },
  {
   "cell_type": "markdown",
   "id": "97dc7668",
   "metadata": {},
   "source": [
    "**2.try to reverse a string without using reverse function.**  "
   ]
  },
  {
   "cell_type": "code",
   "execution_count": 5,
   "id": "1e2c70a8",
   "metadata": {},
   "outputs": [
    {
     "data": {
      "text/plain": [
       "'noitcnuf sti dna gnirts nohtyp GNINrael ma i dna ssalc gnimmargorp nohtyP tsriF yM si siht'"
      ]
     },
     "execution_count": 5,
     "metadata": {},
     "output_type": "execute_result"
    }
   ],
   "source": [
    "s[::-1]"
   ]
  },
  {
   "cell_type": "markdown",
   "id": "b21f046a",
   "metadata": {},
   "source": [
    "**3.Try to split a string after conversion of entire string in uppercase.**"
   ]
  },
  {
   "cell_type": "code",
   "execution_count": 12,
   "id": "57072566",
   "metadata": {},
   "outputs": [
    {
     "data": {
      "text/plain": [
       "['THIS',\n",
       " 'IS',\n",
       " 'MY',\n",
       " 'FIRST',\n",
       " 'PYTHON',\n",
       " 'PROGRAMMING',\n",
       " 'CLASS',\n",
       " 'AND',\n",
       " 'I',\n",
       " 'AM',\n",
       " 'LEARNING',\n",
       " 'PYTHON',\n",
       " 'STRING',\n",
       " 'AND',\n",
       " 'ITS',\n",
       " 'FUNCTION']"
      ]
     },
     "execution_count": 12,
     "metadata": {},
     "output_type": "execute_result"
    }
   ],
   "source": [
    "su = s.upper()\n",
    "su.split()"
   ]
  },
  {
   "cell_type": "markdown",
   "id": "356ec856",
   "metadata": {},
   "source": [
    "**4.try to convert the whole string into lower class.**"
   ]
  },
  {
   "cell_type": "code",
   "execution_count": 14,
   "id": "231ff231",
   "metadata": {},
   "outputs": [
    {
     "data": {
      "text/plain": [
       "'this is my first python programming class and i am learning python string and its function'"
      ]
     },
     "execution_count": 14,
     "metadata": {},
     "output_type": "execute_result"
    }
   ],
   "source": [
    "s.lower()"
   ]
  },
  {
   "cell_type": "markdown",
   "id": "b8865a7c",
   "metadata": {},
   "source": [
    "**5.try to capitalize the whole string**"
   ]
  },
  {
   "cell_type": "code",
   "execution_count": 16,
   "id": "47a0180d",
   "metadata": {},
   "outputs": [
    {
     "data": {
      "text/plain": [
       "'This is my first python programming class and i am learning python string and its function'"
      ]
     },
     "execution_count": 16,
     "metadata": {},
     "output_type": "execute_result"
    }
   ],
   "source": [
    "s.capitalize()"
   ]
  },
  {
   "cell_type": "markdown",
   "id": "0be558dc",
   "metadata": {},
   "source": [
    "**6.Write a diference between isalnum() and isalpha()**"
   ]
  },
  {
   "cell_type": "code",
   "execution_count": 17,
   "id": "3a1e766f",
   "metadata": {},
   "outputs": [
    {
     "data": {
      "text/plain": [
       "False"
      ]
     },
     "execution_count": 17,
     "metadata": {},
     "output_type": "execute_result"
    }
   ],
   "source": [
    "s.isalnum()"
   ]
  },
  {
   "cell_type": "code",
   "execution_count": 18,
   "id": "ac0d0e83",
   "metadata": {},
   "outputs": [
    {
     "data": {
      "text/plain": [
       "False"
      ]
     },
     "execution_count": 18,
     "metadata": {},
     "output_type": "execute_result"
    }
   ],
   "source": [
    "s.isalpha()"
   ]
  },
  {
   "cell_type": "code",
   "execution_count": 19,
   "id": "c631e681",
   "metadata": {},
   "outputs": [],
   "source": [
    "kumar = 'k'"
   ]
  },
  {
   "cell_type": "code",
   "execution_count": 20,
   "id": "4ba706d1",
   "metadata": {},
   "outputs": [
    {
     "data": {
      "text/plain": [
       "True"
      ]
     },
     "execution_count": 20,
     "metadata": {},
     "output_type": "execute_result"
    }
   ],
   "source": [
    "kumar.isalpha()"
   ]
  },
  {
   "cell_type": "markdown",
   "id": "eb80e38d",
   "metadata": {},
   "source": [
    "* isalnum() function checks whether string 's' is alpha numerical while isalpha() checks whether string 's' is alphabetiocal character\"   \n",
    ".\n"
   ]
  },
  {
   "cell_type": "markdown",
   "id": "9650b7d7",
   "metadata": {},
   "source": [
    "**7. try to give an example of expand tab**"
   ]
  },
  {
   "cell_type": "code",
   "execution_count": 29,
   "id": "96392200",
   "metadata": {},
   "outputs": [
    {
     "data": {
      "text/plain": [
       "'kumaka  thara'"
      ]
     },
     "execution_count": 29,
     "metadata": {},
     "output_type": "execute_result"
    }
   ],
   "source": [
    "s2 = \"kumaka\\tthara\"\n",
    "s3 = \"     kumaka thara   TK     \"\n",
    "s2.expandtabs()   #  expands '\\t' into tabs while execution "
   ]
  },
  {
   "cell_type": "markdown",
   "id": "29e3efa2",
   "metadata": {},
   "source": [
    "**8. Give an example of strip, lstrip and rstrip**"
   ]
  },
  {
   "cell_type": "code",
   "execution_count": 30,
   "id": "35fc89ca",
   "metadata": {},
   "outputs": [
    {
     "data": {
      "text/plain": [
       "'kumaka thara   TK'"
      ]
     },
     "execution_count": 30,
     "metadata": {},
     "output_type": "execute_result"
    }
   ],
   "source": [
    "s3.strip()   #  strips from both ends"
   ]
  },
  {
   "cell_type": "code",
   "execution_count": 33,
   "id": "d84fc0cf",
   "metadata": {},
   "outputs": [
    {
     "data": {
      "text/plain": [
       "'kumaka thara   TK     '"
      ]
     },
     "execution_count": 33,
     "metadata": {},
     "output_type": "execute_result"
    }
   ],
   "source": [
    "s3.lstrip()   #  strips from left "
   ]
  },
  {
   "cell_type": "code",
   "execution_count": 34,
   "id": "d5b27938",
   "metadata": {},
   "outputs": [
    {
     "data": {
      "text/plain": [
       "'     kumaka thara   TK'"
      ]
     },
     "execution_count": 34,
     "metadata": {},
     "output_type": "execute_result"
    }
   ],
   "source": [
    "s3.rstrip()  #  strips from right "
   ]
  },
  {
   "cell_type": "markdown",
   "id": "1c487da4",
   "metadata": {},
   "source": [
    "**9.replace a string character by another character by taking your example.\n",
    "\"sudhanshu\"**"
   ]
  },
  {
   "cell_type": "code",
   "execution_count": 36,
   "id": "b6ebdfcb",
   "metadata": {},
   "outputs": [
    {
     "data": {
      "text/plain": [
       "'ManiLmazon'"
      ]
     },
     "execution_count": 36,
     "metadata": {},
     "output_type": "execute_result"
    }
   ],
   "source": [
    "s4 = 'ManiAmazon'\n",
    "s4.replace('A', 'L')  # the 'A' (caps) has been replace into 'L'"
   ]
  },
  {
   "cell_type": "code",
   "execution_count": 39,
   "id": "82404327",
   "metadata": {},
   "outputs": [
    {
     "data": {
      "text/plain": [
       "'MxniAmxzon'"
      ]
     },
     "execution_count": 39,
     "metadata": {},
     "output_type": "execute_result"
    }
   ],
   "source": [
    "s4.replace('a', 'x')  # whereever 'a' found , same has been replaced into 'x'"
   ]
  },
  {
   "cell_type": "markdown",
   "id": "d5f4ac02",
   "metadata": {},
   "source": [
    "**10. try to give a defination of string center function with an example.**"
   ]
  },
  {
   "cell_type": "code",
   "execution_count": 43,
   "id": "683d016e",
   "metadata": {},
   "outputs": [
    {
     "data": {
      "text/plain": [
       "':::::::::::::::ManiAmazon:::::::::::::::'"
      ]
     },
     "execution_count": 43,
     "metadata": {},
     "output_type": "execute_result"
    }
   ],
   "source": [
    "# .center function fills up provided charater ':' within specified width of 40 along with the string at center.\n",
    "s4.center(40, ':')  "
   ]
  },
  {
   "cell_type": "markdown",
   "id": "f83a92fa",
   "metadata": {},
   "source": [
    "**11. write your own definition of compiler and interpretor without copy paste from internet in your own language.**"
   ]
  },
  {
   "cell_type": "markdown",
   "id": "0348676c",
   "metadata": {},
   "source": [
    "We use both compilers and interpreters to convert the language we wrote the code in to binary language so machine can understand.  \n",
    "Intrepreter translate one statement at a time hence it take less amount of time to analyze the code but to process whole program it take more time than compilers.  \n",
    "\n",
    "on the other hand Compiler scans the entire program and translates it as a whole into machine code hence it takes more time to analyze the source code however the overall execution time is a little faster than the interpreter.\n",
    "\n",
    "\n",
    "**Compiler**: it is a program that translates the code written by person into a language recoginised by computer.\n",
    "    it translate the whole code at once. The code execution is fast as compared to interpreter.\n",
    "\n",
    "    \n",
    "**Interpreter**: it is also a program that translates the code written by person in a language recoginised by computer,\n",
    "    but the difference is that it translates the each code line one by one, hence the code execution is slow, but \n",
    "    advantage is that it stops at that line where code is incorrect."
   ]
  },
  {
   "cell_type": "markdown",
   "id": "0dab59c2",
   "metadata": {},
   "source": [
    "**12. Python is a interpreted of compiled laguage give a clear ans with your understanding.**"
   ]
  },
  {
   "cell_type": "markdown",
   "id": "0ca04f93",
   "metadata": {},
   "source": [
    "The python program is first compiled and then interpreted. \n",
    "The compilation part is hidden from the programmer thus, many programmers believe that it is an interpreted language however the compilation part is done first when we execute our code and this will generate byte code and internally this byte code gets converted by the Python Virtual Machine(PVM) according to the underlying platform(machine+operating system)."
   ]
  },
  {
   "cell_type": "markdown",
   "id": "2c92b1a7",
   "metadata": {},
   "source": [
    "**13.try to write a usecase of python with your understanding.**"
   ]
  },
  {
   "cell_type": "markdown",
   "id": "17b4acaa",
   "metadata": {},
   "source": [
    "+ Game Development\n",
    "+ Web Applications\n",
    "+ Software Development\n",
    "+ Web Scraping\n",
    "+ Internet of Things\n",
    "+ Data Science."
   ]
  },
  {
   "cell_type": "code",
   "execution_count": null,
   "id": "29e7359f",
   "metadata": {},
   "outputs": [],
   "source": []
  }
 ],
 "metadata": {
  "kernelspec": {
   "display_name": "Python 3 (ipykernel)",
   "language": "python",
   "name": "python3"
  },
  "language_info": {
   "codemirror_mode": {
    "name": "ipython",
    "version": 3
   },
   "file_extension": ".py",
   "mimetype": "text/x-python",
   "name": "python",
   "nbconvert_exporter": "python",
   "pygments_lexer": "ipython3",
   "version": "3.9.16"
  }
 },
 "nbformat": 4,
 "nbformat_minor": 5
}

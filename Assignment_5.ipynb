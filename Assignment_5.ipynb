{
 "cells": [
  {
   "cell_type": "markdown",
   "id": "54985d88",
   "metadata": {},
   "source": [
    "1. What does an empty dictionary's code look like?\n",
    "\n",
    "Ans:\n",
    "the emtpy dictonary would look like x = {}   \n",
    "where {} denotes empty dictionary and x is variable name\n"
   ]
  },
  {
   "cell_type": "code",
   "execution_count": 1,
   "id": "4290bc99",
   "metadata": {},
   "outputs": [
    {
     "data": {
      "text/plain": [
       "dict"
      ]
     },
     "execution_count": 1,
     "metadata": {},
     "output_type": "execute_result"
    }
   ],
   "source": [
    "x = {}  # empty dictonary represented with two curly bracket \n",
    "\n",
    "type(x)"
   ]
  },
  {
   "cell_type": "markdown",
   "id": "c26305ca",
   "metadata": {},
   "source": [
    "\n",
    "2. What is the value of a dictionary value with the key 'foo' and the value 42?\n",
    "\n",
    "Ans :\n",
    "lets assume x is ditonary variable and \n",
    " x= { 'foo' : 42}\n",
    " \n",
    " then the value of dictionary is 42"
   ]
  },
  {
   "cell_type": "code",
   "execution_count": 2,
   "id": "4e74802f",
   "metadata": {},
   "outputs": [
    {
     "data": {
      "text/plain": [
       "dict_values([42])"
      ]
     },
     "execution_count": 2,
     "metadata": {},
     "output_type": "execute_result"
    }
   ],
   "source": [
    "x = {'foo' : 42}\n",
    "x.values()"
   ]
  },
  {
   "cell_type": "markdown",
   "id": "c9fa46ec",
   "metadata": {},
   "source": [
    "\n",
    "3. What is the most significant distinction between a dictionary and a list?\n",
    "\n",
    "Ans:\n",
    "\n",
    "Dictionary is represented with {} curly brackets and have key, value pairs.\n",
    "List is represented with [] square brackets and would have individual values unlike dictonary.\n",
    "\n"
   ]
  },
  {
   "cell_type": "markdown",
   "id": "68e41227",
   "metadata": {},
   "source": [
    "\n",
    "4. What happens if you try to access spam['foo'] if spam is {'bar': 100}?\n",
    "\n",
    "Ans:\n",
    "there is no key 'foo' hence we would get KeyError\n"
   ]
  },
  {
   "cell_type": "code",
   "execution_count": 3,
   "id": "017bdbe6",
   "metadata": {},
   "outputs": [
    {
     "ename": "KeyError",
     "evalue": "'foo'",
     "output_type": "error",
     "traceback": [
      "\u001b[1;31m---------------------------------------------------------------------------\u001b[0m",
      "\u001b[1;31mKeyError\u001b[0m                                  Traceback (most recent call last)",
      "Cell \u001b[1;32mIn[3], line 2\u001b[0m\n\u001b[0;32m      1\u001b[0m spam \u001b[38;5;241m=\u001b[39m {\u001b[38;5;124m'\u001b[39m\u001b[38;5;124mbar\u001b[39m\u001b[38;5;124m'\u001b[39m: \u001b[38;5;241m100\u001b[39m}\n\u001b[1;32m----> 2\u001b[0m \u001b[43mspam\u001b[49m\u001b[43m \u001b[49m\u001b[43m[\u001b[49m\u001b[38;5;124;43m'\u001b[39;49m\u001b[38;5;124;43mfoo\u001b[39;49m\u001b[38;5;124;43m'\u001b[39;49m\u001b[43m]\u001b[49m\n",
      "\u001b[1;31mKeyError\u001b[0m: 'foo'"
     ]
    }
   ],
   "source": [
    "spam = {'bar': 100}\n",
    "spam ['foo']"
   ]
  },
  {
   "cell_type": "markdown",
   "id": "f6be8d8d",
   "metadata": {},
   "source": [
    "\n",
    "5. If a dictionary is stored in spam, what is the difference between the expressions 'cat' in spam and 'cat' in spam.keys()?\n",
    "\n",
    "Ans:"
   ]
  },
  {
   "cell_type": "code",
   "execution_count": 10,
   "id": "7d7bf08e",
   "metadata": {},
   "outputs": [
    {
     "ename": "TypeError",
     "evalue": "'dict' object is not callable",
     "output_type": "error",
     "traceback": [
      "\u001b[1;31m---------------------------------------------------------------------------\u001b[0m",
      "\u001b[1;31mTypeError\u001b[0m                                 Traceback (most recent call last)",
      "Cell \u001b[1;32mIn[10], line 2\u001b[0m\n\u001b[0;32m      1\u001b[0m spam \u001b[38;5;241m=\u001b[39m {}\n\u001b[1;32m----> 2\u001b[0m \u001b[43mspam\u001b[49m\u001b[43m(\u001b[49m\u001b[38;5;124;43m'\u001b[39;49m\u001b[38;5;124;43mcat\u001b[39;49m\u001b[38;5;124;43m'\u001b[39;49m\u001b[43m)\u001b[49m\n\u001b[0;32m      3\u001b[0m spam\u001b[38;5;241m.\u001b[39mkeys(\u001b[38;5;124m'\u001b[39m\u001b[38;5;124mcat\u001b[39m\u001b[38;5;124m'\u001b[39m)\n",
      "\u001b[1;31mTypeError\u001b[0m: 'dict' object is not callable"
     ]
    }
   ],
   "source": [
    "spam = {}\n",
    "spam('cat')\n",
    "spam.keys('cat')"
   ]
  },
  {
   "cell_type": "code",
   "execution_count": 12,
   "id": "41d08b47",
   "metadata": {},
   "outputs": [
    {
     "ename": "TypeError",
     "evalue": "dict.keys() takes no arguments (1 given)",
     "output_type": "error",
     "traceback": [
      "\u001b[1;31m---------------------------------------------------------------------------\u001b[0m",
      "\u001b[1;31mTypeError\u001b[0m                                 Traceback (most recent call last)",
      "Cell \u001b[1;32mIn[12], line 3\u001b[0m\n\u001b[0;32m      1\u001b[0m spam \u001b[38;5;241m=\u001b[39m {\u001b[38;5;124m'\u001b[39m\u001b[38;5;124mcat\u001b[39m\u001b[38;5;124m'\u001b[39m: \u001b[38;5;124m'\u001b[39m\u001b[38;5;124m25\u001b[39m\u001b[38;5;124m'\u001b[39m}\n\u001b[0;32m      2\u001b[0m \u001b[38;5;66;03m#spam('cat')\u001b[39;00m\n\u001b[1;32m----> 3\u001b[0m \u001b[43mspam\u001b[49m\u001b[38;5;241;43m.\u001b[39;49m\u001b[43mkeys\u001b[49m\u001b[43m(\u001b[49m\u001b[38;5;124;43m'\u001b[39;49m\u001b[38;5;124;43mcat\u001b[39;49m\u001b[38;5;124;43m'\u001b[39;49m\u001b[43m)\u001b[49m\n",
      "\u001b[1;31mTypeError\u001b[0m: dict.keys() takes no arguments (1 given)"
     ]
    }
   ],
   "source": [
    "spam = {'cat': '25'}\n",
    "#spam('cat')\n",
    "spam.keys('cat')"
   ]
  },
  {
   "cell_type": "code",
   "execution_count": null,
   "id": "bef6e682",
   "metadata": {},
   "outputs": [],
   "source": []
  }
 ],
 "metadata": {
  "kernelspec": {
   "display_name": "Python 3 (ipykernel)",
   "language": "python",
   "name": "python3"
  },
  "language_info": {
   "codemirror_mode": {
    "name": "ipython",
    "version": 3
   },
   "file_extension": ".py",
   "mimetype": "text/x-python",
   "name": "python",
   "nbconvert_exporter": "python",
   "pygments_lexer": "ipython3",
   "version": "3.9.16"
  }
 },
 "nbformat": 4,
 "nbformat_minor": 5
}

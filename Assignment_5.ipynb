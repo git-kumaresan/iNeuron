{
 "cells": [
  {
   "cell_type": "markdown",
   "id": "63b37f72",
   "metadata": {},
   "source": [
    "1. What does an empty dictionary's code look like?\n",
    "\n",
    "Ans:\n",
    "the emtpy dictonary would look like x = {}   \n",
    "where {} denotes empty dictionary and x is variable name\n"
   ]
  },
  {
   "cell_type": "code",
   "execution_count": 1,
   "id": "09215f09",
   "metadata": {},
   "outputs": [
    {
     "data": {
      "text/plain": [
       "dict"
      ]
     },
     "execution_count": 1,
     "metadata": {},
     "output_type": "execute_result"
    }
   ],
   "source": [
    "x = {}  # empty dictonary represented with two curly bracket \n",
    "\n",
    "type(x)"
   ]
  },
  {
   "cell_type": "markdown",
   "id": "2b6b9160",
   "metadata": {},
   "source": [
    "\n",
    "2. What is the value of a dictionary value with the key 'foo' and the value 42?\n",
    "\n",
    "Ans :\n",
    "lets assume x is ditonary variable and \n",
    " x= { 'foo' : 42}\n",
    " \n",
    " then the value of dictionary is 42"
   ]
  },
  {
   "cell_type": "code",
   "execution_count": 2,
   "id": "382bf620",
   "metadata": {},
   "outputs": [
    {
     "data": {
      "text/plain": [
       "dict_values([42])"
      ]
     },
     "execution_count": 2,
     "metadata": {},
     "output_type": "execute_result"
    }
   ],
   "source": [
    "x = {'foo' : 42}\n",
    "x.values()"
   ]
  },
  {
   "cell_type": "markdown",
   "id": "8ca7bf69",
   "metadata": {},
   "source": [
    "\n",
    "3. What is the most significant distinction between a dictionary and a list?\n",
    "\n",
    "Ans:\n",
    "\n",
    "Dictionary is represented with {} curly brackets and have key, value pairs.\n",
    "List is represented with [] square brackets and would have individual values unlike dictonary.\n",
    "\n"
   ]
  },
  {
   "cell_type": "markdown",
   "id": "bf6c5b8a",
   "metadata": {},
   "source": [
    "\n",
    "4. What happens if you try to access spam['foo'] if spam is {'bar': 100}?\n",
    "\n",
    "Ans:\n",
    "there is no key 'foo' hence we would get KeyError\n"
   ]
  },
  {
   "cell_type": "code",
   "execution_count": 3,
   "id": "4bc4c41f",
   "metadata": {},
   "outputs": [
    {
     "ename": "KeyError",
     "evalue": "'foo'",
     "output_type": "error",
     "traceback": [
      "\u001b[1;31m---------------------------------------------------------------------------\u001b[0m",
      "\u001b[1;31mKeyError\u001b[0m                                  Traceback (most recent call last)",
      "Cell \u001b[1;32mIn[3], line 2\u001b[0m\n\u001b[0;32m      1\u001b[0m spam \u001b[38;5;241m=\u001b[39m {\u001b[38;5;124m'\u001b[39m\u001b[38;5;124mbar\u001b[39m\u001b[38;5;124m'\u001b[39m: \u001b[38;5;241m100\u001b[39m}\n\u001b[1;32m----> 2\u001b[0m \u001b[43mspam\u001b[49m\u001b[43m \u001b[49m\u001b[43m[\u001b[49m\u001b[38;5;124;43m'\u001b[39;49m\u001b[38;5;124;43mfoo\u001b[39;49m\u001b[38;5;124;43m'\u001b[39;49m\u001b[43m]\u001b[49m\n",
      "\u001b[1;31mKeyError\u001b[0m: 'foo'"
     ]
    }
   ],
   "source": [
    "spam = {'bar': 100}\n",
    "spam ['foo']"
   ]
  },
  {
   "cell_type": "markdown",
   "id": "ea66560c",
   "metadata": {},
   "source": [
    "\n",
    "5. If a dictionary is stored in spam, what is the difference between the expressions 'cat' in spam and 'cat' in spam.keys()?\n",
    "\n",
    "Ans:\n",
    " there is no difference in operation, both statements checks whether 'cat' is available in the dictionary 'spam' and result would be in boolean values 'True' or 'False'.\n",
    " both 'cat' in spam & 'cat' in spam.keys() checks wether 'cat' is available in dictionary keys.\n",
    " \n",
    " the difference here is only the statement how it is used to find the key 'cat'."
   ]
  },
  {
   "cell_type": "code",
   "execution_count": 16,
   "id": "4c538952",
   "metadata": {},
   "outputs": [
    {
     "data": {
      "text/plain": [
       "False"
      ]
     },
     "execution_count": 16,
     "metadata": {},
     "output_type": "execute_result"
    }
   ],
   "source": [
    "spam = {\"mani\": 'cat'}\n",
    "'cat' in spam         # checks if 'cat' available in keys of dictionary"
   ]
  },
  {
   "cell_type": "code",
   "execution_count": 14,
   "id": "97bc52d7",
   "metadata": {},
   "outputs": [
    {
     "data": {
      "text/plain": [
       "True"
      ]
     },
     "execution_count": 14,
     "metadata": {},
     "output_type": "execute_result"
    }
   ],
   "source": [
    "spam = {'cat': '25'}\n",
    "'cat' in spam.keys()  # checks if 'cat' available in keys of dictionary"
   ]
  },
  {
   "cell_type": "code",
   "execution_count": 15,
   "id": "0cb6ad87",
   "metadata": {},
   "outputs": [
    {
     "data": {
      "text/plain": [
       "True"
      ]
     },
     "execution_count": 15,
     "metadata": {},
     "output_type": "execute_result"
    }
   ],
   "source": [
    "spam = {'cat': '25'}\n",
    "'cat' in spam         # checks if 'cat' available in keys of dictionary  "
   ]
  },
  {
   "cell_type": "markdown",
   "id": "8df9d537",
   "metadata": {},
   "source": [
    "\n",
    "6. If a dictionary is stored in spam, what is the difference between the expressions 'cat' in spam and 'cat' in spam.values()?\n",
    "\n",
    "Ans:\n",
    "\n",
    "the statement 'cat' in spam would check if the string 'cat' is available in keys of dictionary spam\n",
    "while the second statement 'cat' in spam.values would check if there is 'cat' available in values of dictionary spam.\n"
   ]
  },
  {
   "cell_type": "code",
   "execution_count": 17,
   "id": "58fa59b1",
   "metadata": {},
   "outputs": [
    {
     "data": {
      "text/plain": [
       "False"
      ]
     },
     "execution_count": 17,
     "metadata": {},
     "output_type": "execute_result"
    }
   ],
   "source": [
    "spam = {\"mani\": 'cat'}\n",
    "'cat' in spam           # checks if 'cat' is available in keys of dictionary"
   ]
  },
  {
   "cell_type": "code",
   "execution_count": 18,
   "id": "3507381d",
   "metadata": {},
   "outputs": [
    {
     "data": {
      "text/plain": [
       "True"
      ]
     },
     "execution_count": 18,
     "metadata": {},
     "output_type": "execute_result"
    }
   ],
   "source": [
    "spam = {\"mani\": 'cat'}\n",
    "'cat' in spam.values()  # checks if 'cat' available in vaules of dictionary"
   ]
  },
  {
   "cell_type": "markdown",
   "id": "930d001e",
   "metadata": {},
   "source": [
    "\n",
    "7. What is a shortcut for the following code?\n",
    "if 'color' not in spam: spam['color'] = 'black'\n",
    "\n",
    "Ans:  spam.setdefault('color','black')"
   ]
  },
  {
   "cell_type": "code",
   "execution_count": 19,
   "id": "cdfa1f22",
   "metadata": {},
   "outputs": [
    {
     "data": {
      "text/plain": [
       "'black'"
      ]
     },
     "execution_count": 19,
     "metadata": {},
     "output_type": "execute_result"
    }
   ],
   "source": [
    "if 'color' not in spam: spam['color'] ='black'\n",
    "    spam.setdefault('color','black')"
   ]
  },
  {
   "cell_type": "markdown",
   "id": "6822b8e1",
   "metadata": {},
   "source": [
    "\n",
    "8. How do you \"pretty print\" dictionary values using which module and function?\n",
    "\n",
    "Ans:\n",
    "we can use pretty print dictionary values using the \"pprint\" module and its \"pprint()\" function.\n",
    "\n",
    "note: pprint would print the keys in order.\n"
   ]
  },
  {
   "cell_type": "code",
   "execution_count": 21,
   "id": "408c11ff",
   "metadata": {},
   "outputs": [
    {
     "name": "stdout",
     "output_type": "stream",
     "text": [
      "{'bill': '350',\n",
      " 'bill1': '140',\n",
      " 'kumar': 100,\n",
      " 'kumar1': 50,\n",
      " 'mani': 250,\n",
      " 'mani1': 90,\n",
      " 'recept': 'recived',\n",
      " 'recept1': 'recived'}\n"
     ]
    }
   ],
   "source": [
    "import pprint\n",
    "\n",
    "spam = {\"kumar\": 100, \"mani\": 250, \"bill\": \"350\", \"recept\": \"recived\", \"kumar1\": 50, \"mani1\": 90, \"bill1\": \"140\", \"recept1\": \"recived\"}\n",
    "pprint.pprint(spam)"
   ]
  },
  {
   "cell_type": "code",
   "execution_count": null,
   "id": "d5e01549",
   "metadata": {},
   "outputs": [],
   "source": []
  }
 ],
 "metadata": {
  "kernelspec": {
   "display_name": "Python 3 (ipykernel)",
   "language": "python",
   "name": "python3"
  },
  "language_info": {
   "codemirror_mode": {
    "name": "ipython",
    "version": 3
   },
   "file_extension": ".py",
   "mimetype": "text/x-python",
   "name": "python",
   "nbconvert_exporter": "python",
   "pygments_lexer": "ipython3",
   "version": "3.9.16"
  }
 },
 "nbformat": 4,
 "nbformat_minor": 5
}

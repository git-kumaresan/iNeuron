{
 "cells": [
  {
   "cell_type": "markdown",
   "id": "b7bc83e1",
   "metadata": {},
   "source": [
    "# Assignment_2\n"
   ]
  },
  {
   "cell_type": "markdown",
   "id": "b727d91d",
   "metadata": {},
   "source": [
    "1.What are the two values of the Boolean data type? How do you write them?\n",
    "\n",
    "Ans:\n",
    "\n",
    "'True' and 'False' are two values of the boolean data type.\n",
    "boolean values are inbuild in Python and it has to be writen with first letter captalized such as 'True', 'False' respectively."
   ]
  },
  {
   "cell_type": "code",
   "execution_count": 1,
   "id": "9189c597",
   "metadata": {},
   "outputs": [
    {
     "name": "stdout",
     "output_type": "stream",
     "text": [
      "True <class 'bool'>\n",
      "False <class 'bool'>\n"
     ]
    }
   ],
   "source": [
    "x=True\n",
    "y=False\n",
    "print(x,type(x))\n",
    "print(y,type(y))"
   ]
  },
  {
   "cell_type": "markdown",
   "id": "ad4d7e66",
   "metadata": {},
   "source": [
    "\n",
    "2. What are the three different types of Boolean operators?\n",
    "\n",
    "Ans:\n",
    "\n",
    "'and' , 'or', 'not' are the three boolean operators.\n",
    "all three boolean operators takes two arguments in any statment and provides boolean values (True or False) as result.\n",
    "\n",
    "'and' operator - when both argument is true, result is True. else, the result is False.\n",
    "'or' operator - when either one of arguments is true, result is True, else the result is False.\n",
    "'not' operator - provides opposite boolean values ( True not becomes False and False not become True).\n"
   ]
  },
  {
   "cell_type": "markdown",
   "id": "a67410e0",
   "metadata": {},
   "source": [
    "\n",
    "3. Make a list of each Boolean operator's truth tables (i.e. every possible combination of Boolean values for the operator and what it evaluate ).\n",
    "\n",
    "Ans:\n",
    "\n",
    "(i). 'and' operator's truth table.\n",
    "    True and True = True\n",
    "    \n",
    "    True and False = False\n",
    "    \n",
    "    False and True = False\n",
    "    \n",
    "    False and False = False\n",
    "  \n",
    " (ii). 'or' operator's truth table.\n",
    " \n",
    "     True or True = True\n",
    "     \n",
    "     True or False = True\n",
    "     \n",
    "     False or True = True\n",
    "     \n",
    "     False or False = False\n",
    "  \n",
    " (iii). 'not' operator';s truth table.\n",
    " \n",
    "     not True = False\n",
    "     \n",
    "     not False = True"
   ]
  },
  {
   "cell_type": "markdown",
   "id": "ae00a3ab",
   "metadata": {},
   "source": [
    "4. What are the values of the following expressions?\n",
    "(5 > 4) and (3 == 5) \n",
    "not (5 > 4)\n",
    "(5 > 4) or (3 == 5)\n",
    "not ((5 > 4) or (3 == 5))\n",
    "(True and True) and (True == False)\n",
    "(not False) or (not True)\n",
    "\n",
    "Ans:"
   ]
  },
  {
   "cell_type": "code",
   "execution_count": 6,
   "id": "71adfb76",
   "metadata": {},
   "outputs": [
    {
     "data": {
      "text/plain": [
       "False"
      ]
     },
     "execution_count": 6,
     "metadata": {},
     "output_type": "execute_result"
    }
   ],
   "source": [
    "(5 > 4) and (3 == 5) \n",
    "# the value is 'False' as the first operation(5>4) is True, second operation (3==5) is False (and operation)"
   ]
  },
  {
   "cell_type": "code",
   "execution_count": 7,
   "id": "3915d3c0",
   "metadata": {},
   "outputs": [
    {
     "data": {
      "text/plain": [
       "False"
      ]
     },
     "execution_count": 7,
     "metadata": {},
     "output_type": "execute_result"
    }
   ],
   "source": [
    "not (5 > 4)\n",
    "# the result is 'False' as the 'not' operator turns the True value of 5>4 into false value. (not operation)"
   ]
  },
  {
   "cell_type": "code",
   "execution_count": 8,
   "id": "75572908",
   "metadata": {},
   "outputs": [
    {
     "data": {
      "text/plain": [
       "True"
      ]
     },
     "execution_count": 8,
     "metadata": {},
     "output_type": "execute_result"
    }
   ],
   "source": [
    "(5 > 4) or (3 == 5) \n",
    "#the result is 'True' as the 'or' operation requires any one of the condition to be true. here 5>4 is Ture."
   ]
  },
  {
   "cell_type": "code",
   "execution_count": 10,
   "id": "85aa2406",
   "metadata": {},
   "outputs": [
    {
     "data": {
      "text/plain": [
       "False"
      ]
     },
     "execution_count": 10,
     "metadata": {},
     "output_type": "execute_result"
    }
   ],
   "source": [
    "not ((5 > 4) or (3 == 5))\n",
    "#the result is 'False'\n",
    "#as (5>4) is Ture, (3==5) is False, hence (True) or (False) becomes True. then the not operator turns the True into False."
   ]
  },
  {
   "cell_type": "code",
   "execution_count": 11,
   "id": "8302b0f3",
   "metadata": {},
   "outputs": [
    {
     "data": {
      "text/plain": [
       "False"
      ]
     },
     "execution_count": 11,
     "metadata": {},
     "output_type": "execute_result"
    }
   ],
   "source": [
    "(True and True) and (True == False)\n",
    "#the result is False as the first condition(True and True) is True, second condition (True == False) is False.\n",
    "#when True and False operated with 'and' operator, the result is 'False'"
   ]
  },
  {
   "cell_type": "code",
   "execution_count": 12,
   "id": "61e5cfd7",
   "metadata": {},
   "outputs": [
    {
     "data": {
      "text/plain": [
       "True"
      ]
     },
     "execution_count": 12,
     "metadata": {},
     "output_type": "execute_result"
    }
   ],
   "source": [
    "(not False) or (not True)\n",
    "#the result is True as the first condition (not False) become 'True' and second condition (not True) becomes 'False'.\n",
    "#True or False becomes 'True'"
   ]
  },
  {
   "cell_type": "markdown",
   "id": "50cb607a",
   "metadata": {},
   "source": [
    "\n",
    "5. What are the six comparison operators?\n",
    "\n",
    "Ans:\n",
    "below are the six comparision operators.\n",
    "(i) ==  (equal to)\n",
    "(ii) != (not equal to)\n",
    "(iii) > (greater than)\n",
    "(iv) < (less than)\n",
    "(v) >= (greater than or equal to)\n",
    "(vi) <= (less than or equal to)\n",
    "\n"
   ]
  },
  {
   "cell_type": "markdown",
   "id": "fb7ef5cc",
   "metadata": {},
   "source": [
    "6. How do you tell the difference between the 'equal to' and assignment operators? Describe a condition and when you would use one.\n",
    "\n",
    "Ans:\n",
    "\n",
    "'equal to' operator is '==\" which is used to compare two values and evaluates to boolean value.\n",
    "'assignment operator' is '=' which is used to assign/store values to the variable.\n"
   ]
  },
  {
   "cell_type": "code",
   "execution_count": 14,
   "id": "7785919c",
   "metadata": {},
   "outputs": [
    {
     "name": "stdout",
     "output_type": "stream",
     "text": [
      "False\n"
     ]
    }
   ],
   "source": [
    "#e.g,\n",
    "x = 2\n",
    "y = 23\n",
    "print(x==y) #'equal to' operator is used to compare two different variables, the result is in boolean value."
   ]
  },
  {
   "cell_type": "code",
   "execution_count": 16,
   "id": "823fd352",
   "metadata": {},
   "outputs": [
    {
     "name": "stdout",
     "output_type": "stream",
     "text": [
      "25\n"
     ]
    }
   ],
   "source": [
    "z = x + y\n",
    "print(z)\n",
    "#'assignment operator =' used to assign values to variable 'z'"
   ]
  },
  {
   "cell_type": "markdown",
   "id": "10d4d7ec",
   "metadata": {},
   "source": [
    "7. Identify the three blocks in this code:\n",
    "\n",
    "Ans:\n",
    " provided code has three blocks that constructed in loops, classes, conditions.\n",
    " here 3 blocks found in 'if' conditions and 'else' condition blocks."
   ]
  },
  {
   "cell_type": "code",
   "execution_count": 18,
   "id": "4aae50a8",
   "metadata": {},
   "outputs": [
    {
     "name": "stdout",
     "output_type": "stream",
     "text": [
      "ham\n",
      "spam\n",
      "spam\n"
     ]
    }
   ],
   "source": [
    "   \n",
    "spam = 0\n",
    "if spam == 10: \n",
    "    print('eggs') # block #1 (if block)\n",
    "if spam > 5: \n",
    "    print('bacon') # block #2 (if block)\n",
    "else:\n",
    "    print('ham') # block 3 (else block)\n",
    "    print('spam')# this code line can be added to block 3 upon requirment (depends upon requirment)\n",
    "    print('spam')# this code line can be added to block 3 upon requirment (depends upon requirment)"
   ]
  },
  {
   "cell_type": "markdown",
   "id": "f1e0056f",
   "metadata": {},
   "source": [
    "8. Write code that prints Hello if 1 is stored in spam, prints Howdy if 2 is stored in spam, and prints Greetings! if anything else is stored in spam.\n",
    "\n",
    "Ans:"
   ]
  },
  {
   "cell_type": "code",
   "execution_count": 6,
   "id": "2e1cc8cf",
   "metadata": {},
   "outputs": [
    {
     "name": "stdout",
     "output_type": "stream",
     "text": [
      "enter the value : 2\n",
      "Howdy\n"
     ]
    }
   ],
   "source": [
    "spam = int(input(\"enter the value : \"))\n",
    "\n",
    "if spam == 1:\n",
    "    print(\"Hello\")\n",
    "elif spam == 2:\n",
    "    print(\"Howdy\")\n",
    "else:\n",
    "    print(\"Greetings!\")"
   ]
  },
  {
   "cell_type": "markdown",
   "id": "71c3b53e",
   "metadata": {},
   "source": [
    "\n",
    "9.If your programme is stuck in an endless loop, what keys you’ll press?\n",
    "\n",
    "Ans: When a program stuck in endless loop, the 'CTRL' + 'C' has to be pressed inorded to stop.\n"
   ]
  },
  {
   "cell_type": "markdown",
   "id": "d30f921b",
   "metadata": {},
   "source": [
    "10. How can you tell the difference between break and continue?\n",
    "\n",
    "Ans:\n",
    "'break' in python used to break the operation in program, it exits the current loop, terminates the execution of remainig loop statements.\n",
    "'continue' skips the current iteration and executes very next iteration in the loop.\n"
   ]
  },
  {
   "cell_type": "code",
   "execution_count": 12,
   "id": "f2b1dd60",
   "metadata": {},
   "outputs": [
    {
     "name": "stdout",
     "output_type": "stream",
     "text": [
      "k\n",
      "u\n",
      "m\n",
      "a\n",
      "r\n",
      " encountered letter 'e' and if block is executed\n",
      "end of 'for' loop\n"
     ]
    }
   ],
   "source": [
    "# using 'break' to terminate the execution in loop\n",
    "\n",
    "x = \"kumaresan\"\n",
    "for i in x:\n",
    "    if i == \"e\":\n",
    "        print(\" encountered letter 'e' and if block is executed\")\n",
    "        break\n",
    "    print(i)\n",
    "print(\"end of 'for' loop\")\n",
    "    "
   ]
  },
  {
   "cell_type": "code",
   "execution_count": 18,
   "id": "21572beb",
   "metadata": {},
   "outputs": [
    {
     "name": "stdout",
     "output_type": "stream",
     "text": [
      "k\n",
      " encountered vowel : u\n",
      "m\n",
      " encountered vowel : a\n",
      "r\n",
      " encountered vowel : e\n",
      "s\n",
      " encountered vowel : a\n",
      "n\n",
      "end of 'for' loop\n"
     ]
    }
   ],
   "source": [
    "# using 'continue' in 'for' loop\n",
    "\n",
    "x = \"kumaresan\"\n",
    "for i in x:\n",
    "    if i == \"a\" or i == \"e\" or i == \"i\" or i == \"o\" or i == \"u\":\n",
    "        print(\" encountered vowel :\", i)\n",
    "        continue #when this line encountered, below print(i) not executed insted above if loop executed \n",
    "    print(i)\n",
    "\n",
    "print(\"end of 'for' loop\")"
   ]
  },
  {
   "cell_type": "markdown",
   "id": "3f31b48b",
   "metadata": {},
   "source": [
    "11. In a for loop, what is the difference between range(10), range(0, 10), and range(0, 10, 1)?\n",
    "\n",
    "Ans:\n",
    "\n",
    "only the struture / syntax of the range() function is different(input parameters are different), though all three produces same output.\n",
    "\n",
    "range(10) - would proivide 0 to 9 and there is no start value\n",
    "range(0,10) - has start value 0 till 10th value, that would ideally produce numbers from 0 to 9.\n",
    "range(0,10,1) - the stepping value is 1, start value is 0, till 10th value."
   ]
  },
  {
   "cell_type": "markdown",
   "id": "293be50e",
   "metadata": {},
   "source": [
    "\n",
    "\n",
    "12. Write a short program that prints the numbers 1 to 10 using a for loop. Then write an equivalent program that prints the numbers 1 to 10 using a while loop.\n",
    "\n",
    "Ans:"
   ]
  },
  {
   "cell_type": "code",
   "execution_count": 18,
   "id": "cf643342",
   "metadata": {},
   "outputs": [
    {
     "name": "stdout",
     "output_type": "stream",
     "text": [
      "---- Printing numbers 1 to 10 using 'for' loop ----\n",
      "1 2 3 4 5 6 7 8 9 10 \n",
      " \n",
      "---- Printing numbers 1 to 10 using 'while' loop ----\n",
      "1 2 3 4 5 6 7 8 9 10 "
     ]
    }
   ],
   "source": [
    "\n",
    "print(\"-\"*4,\"Printing numbers 1 to 10 using 'for' loop\", \"-\"*4)\n",
    "for i in range(10):\n",
    "    print(i+1, end = \" \")\n",
    "print(\"\\n \")\n",
    "print(\"-\"*4,\"Printing numbers 1 to 10 using 'while' loop\",\"-\"*4)\n",
    "i=1\n",
    "while i <=10:\n",
    "    print(i, end =\" \")\n",
    "    i +=1\n",
    "\n",
    "    "
   ]
  },
  {
   "cell_type": "markdown",
   "id": "689b30fd",
   "metadata": {},
   "source": [
    "13. If you had a function named bacon() inside a module named spam, how would you call it after importing spam?\n",
    "\n",
    "Ans:\n",
    "\n",
    "when bacon() function to be called in spam module after importing, it should be called with module name with fullstop '.' follwed by fuction name.,\n",
    "\n",
    "i.e., spam.bacon()"
   ]
  }
 ],
 "metadata": {
  "kernelspec": {
   "display_name": "Python 3 (ipykernel)",
   "language": "python",
   "name": "python3"
  },
  "language_info": {
   "codemirror_mode": {
    "name": "ipython",
    "version": 3
   },
   "file_extension": ".py",
   "mimetype": "text/x-python",
   "name": "python",
   "nbconvert_exporter": "python",
   "pygments_lexer": "ipython3",
   "version": "3.9.12"
  }
 },
 "nbformat": 4,
 "nbformat_minor": 5
}

{
 "cells": [
  {
   "cell_type": "markdown",
   "id": "cb8c3dda",
   "metadata": {},
   "source": [
    "1. What are escape characters, and how do you use them?\n",
    "\n",
    "Ans:\n",
    "\n",
    "escape charaters are typed in code along with \\ to insert characters that cant be typed in any string.\n",
    "example. \\n and \\t are the escape characters.  \n",
    "\n"
   ]
  },
  {
   "cell_type": "markdown",
   "id": "7eafc888",
   "metadata": {},
   "source": [
    "\n",
    "2. What do the escape characters n and t stand for?\n",
    "\n",
    "Ans:\n",
    "\n",
    "\\n stands for new line\n",
    "\\t stands for tab\n"
   ]
  },
  {
   "cell_type": "code",
   "execution_count": 1,
   "id": "4bebbb01",
   "metadata": {},
   "outputs": [
    {
     "name": "stdout",
     "output_type": "stream",
     "text": [
      "learning datascience \n",
      " working on python\n"
     ]
    }
   ],
   "source": [
    "# \\n for new line\n",
    "print(\"learning datascience \\n working on python\")"
   ]
  },
  {
   "cell_type": "code",
   "execution_count": 2,
   "id": "735e6df5",
   "metadata": {},
   "outputs": [
    {
     "name": "stdout",
     "output_type": "stream",
     "text": [
      "Data\tScience, \n",
      "ineuron\n"
     ]
    }
   ],
   "source": [
    "# \\t for a tab & \\n for next line\n",
    "print(\"Data\\tScience, \\nineuron\")"
   ]
  },
  {
   "cell_type": "markdown",
   "id": "93628c03",
   "metadata": {},
   "source": [
    "\n",
    "\n",
    "3. What is the way to include backslash characters in a string?\n",
    "\n",
    "Ans:\n",
    "the best way to include backslash charatcer in a string is by using \\\\. this would print a single \\ in string.\n",
    "\n"
   ]
  },
  {
   "cell_type": "code",
   "execution_count": 4,
   "id": "cac7c88b",
   "metadata": {},
   "outputs": [
    {
     "name": "stdout",
     "output_type": "stream",
     "text": [
      "Using \\ (backslash)\n"
     ]
    }
   ],
   "source": [
    "print(\"Using \\\\ (backslash)\")"
   ]
  },
  {
   "cell_type": "markdown",
   "id": "914c933b",
   "metadata": {},
   "source": [
    "\n",
    "4. The string \"Howl's Moving Castle\" is a correct value. Why isn't the single quote character in the word Howl's not escaped a problem?\n",
    "\n",
    "Ans:\n",
    " the single quote character in the word Hol's is not esscaped a problem because the string was made with double quote characters. this allows to type/include the single quote in any given string.\n",
    " "
   ]
  },
  {
   "cell_type": "markdown",
   "id": "11bcd559",
   "metadata": {},
   "source": [
    "\n",
    "5. How do you write a string of newlines if you don't want to use the n character?\n",
    "\n",
    "Ans:\n",
    "\n",
    "if we dont want to use backslash with n for next line, we can use multiline concept. the string has to be declared with triple quotes so that a new line can be acived whenever typed in string without using \\n.\n"
   ]
  },
  {
   "cell_type": "code",
   "execution_count": 6,
   "id": "0f9507c6",
   "metadata": {},
   "outputs": [
    {
     "name": "stdout",
     "output_type": "stream",
     "text": [
      "This is the way of typing a strign of new line \n",
      "without using the n character\n"
     ]
    }
   ],
   "source": [
    "test = \"\"\"This is the way of typing a strign of new line \n",
    "without using the n character\"\"\"\n",
    "\n",
    "print(test)"
   ]
  },
  {
   "cell_type": "code",
   "execution_count": null,
   "id": "f2ce7aaa",
   "metadata": {},
   "outputs": [],
   "source": [
    "\n",
    "6. What are the values of the given expressions?\n",
    "'Hello, world!'[1]\n",
    "'Hello, world!'[0:5]\n",
    "'Hello, world!'[:5]\n",
    "'Hello, world!'[3:]\n",
    "\n",
    "Ans:\n",
    "    'Hello, world!'[1]  >> 'e'      # the first index of string is 'e'\n",
    "    'Hello, world!'[0:5] >> 'Hello' # from index 0 to 5 in string is 'Hello'\n",
    "    'Hello, world!'[:5] >> 'Hello'  # when start index is not defined its by default 0 hence the value is 'Hello'\n",
    "    'Hello, world!'[3:] >> 'lo, world!' # when the ending index is not mentioned its by default till last index or -1."
   ]
  },
  {
   "cell_type": "code",
   "execution_count": 8,
   "id": "5be7c38a",
   "metadata": {},
   "outputs": [
    {
     "data": {
      "text/plain": [
       "'e'"
      ]
     },
     "execution_count": 8,
     "metadata": {},
     "output_type": "execute_result"
    }
   ],
   "source": [
    "'Hello, world!'[1]"
   ]
  },
  {
   "cell_type": "code",
   "execution_count": 9,
   "id": "260579e7",
   "metadata": {},
   "outputs": [
    {
     "data": {
      "text/plain": [
       "'Hello'"
      ]
     },
     "execution_count": 9,
     "metadata": {},
     "output_type": "execute_result"
    }
   ],
   "source": [
    "'Hello, world!'[0:5]"
   ]
  },
  {
   "cell_type": "code",
   "execution_count": 10,
   "id": "5d20bb78",
   "metadata": {},
   "outputs": [
    {
     "data": {
      "text/plain": [
       "'Hello'"
      ]
     },
     "execution_count": 10,
     "metadata": {},
     "output_type": "execute_result"
    }
   ],
   "source": [
    "'Hello, world!'[:5]"
   ]
  },
  {
   "cell_type": "code",
   "execution_count": 11,
   "id": "d4a056c9",
   "metadata": {},
   "outputs": [
    {
     "data": {
      "text/plain": [
       "'lo, world!'"
      ]
     },
     "execution_count": 11,
     "metadata": {},
     "output_type": "execute_result"
    }
   ],
   "source": [
    "'Hello, world!'[3:]"
   ]
  },
  {
   "cell_type": "code",
   "execution_count": null,
   "id": "869e33ae",
   "metadata": {},
   "outputs": [],
   "source": [
    "\n",
    "7. What are the values of the following expressions?\n",
    "'Hello'.upper()\n",
    "'Hello'.upper().isupper()\n",
    "'Hello'.upper().lower()\n",
    "\n",
    "\n",
    "Ans:\n",
    "    'Hello'.upper() >> 'HELLO'       # .upper() string module converts the string in all upper case\n",
    "    'Hello'.upper().isupper() True   # .isupper() checks whether the string is upper and returns the boolean value.\n",
    "    'Hello'.upper().lower() 'hello'  # .lower() converts everything in string into lower case"
   ]
  },
  {
   "cell_type": "code",
   "execution_count": 12,
   "id": "9e5dc826",
   "metadata": {},
   "outputs": [
    {
     "data": {
      "text/plain": [
       "'HELLO'"
      ]
     },
     "execution_count": 12,
     "metadata": {},
     "output_type": "execute_result"
    }
   ],
   "source": [
    "'Hello'.upper()"
   ]
  },
  {
   "cell_type": "code",
   "execution_count": 13,
   "id": "446d4f0e",
   "metadata": {},
   "outputs": [
    {
     "data": {
      "text/plain": [
       "True"
      ]
     },
     "execution_count": 13,
     "metadata": {},
     "output_type": "execute_result"
    }
   ],
   "source": [
    "'Hello'.upper().isupper()"
   ]
  },
  {
   "cell_type": "code",
   "execution_count": 14,
   "id": "a553a98b",
   "metadata": {},
   "outputs": [
    {
     "data": {
      "text/plain": [
       "'hello'"
      ]
     },
     "execution_count": 14,
     "metadata": {},
     "output_type": "execute_result"
    }
   ],
   "source": [
    "'Hello'.upper().lower()"
   ]
  },
  {
   "cell_type": "markdown",
   "id": "65c56f16",
   "metadata": {},
   "source": [
    "\n",
    "8. What are the values of the following expressions?\n",
    "'Remember, remember, the fifth of July.'.split()\n",
    "'-'.join('There can only one.'.split())\n",
    "\n",
    "Ans:\n",
    "    the value of 1st one is  ['Remember,', 'remember,', 'the', 'fifth', 'of', 'July.']\n",
    "    because the .split() string module would seperate the string based on the input. \n",
    "    here not input for the split function is given hence it splits at every whitespace by default.\n",
    "    \n",
    "    the value of second one is 'There-can-only-one.'\n",
    "    at first the split function seperate the strign based on white space\n",
    "    then .join() method joins the strings using given '-'\n",
    "    hence we are getting this result."
   ]
  },
  {
   "cell_type": "code",
   "execution_count": 15,
   "id": "ac76f2f1",
   "metadata": {},
   "outputs": [
    {
     "data": {
      "text/plain": [
       "['Remember,', 'remember,', 'the', 'fifth', 'of', 'July.']"
      ]
     },
     "execution_count": 15,
     "metadata": {},
     "output_type": "execute_result"
    }
   ],
   "source": [
    "'Remember, remember, the fifth of July.'.split()"
   ]
  },
  {
   "cell_type": "code",
   "execution_count": 16,
   "id": "016c03f2",
   "metadata": {},
   "outputs": [
    {
     "data": {
      "text/plain": [
       "'There-can-only-one.'"
      ]
     },
     "execution_count": 16,
     "metadata": {},
     "output_type": "execute_result"
    }
   ],
   "source": [
    "'-'.join('There can only one.'.split())"
   ]
  },
  {
   "cell_type": "markdown",
   "id": "2684c5b0",
   "metadata": {},
   "source": [
    "\n",
    "9. What are the methods for right-justifying, left-justifying, and centering a string?\n",
    "\n",
    "Ans:\n",
    ".rjust() for rightjustify\n",
    ".ljust() for lest justify\n",
    ".center() for centering a string"
   ]
  },
  {
   "cell_type": "code",
   "execution_count": 18,
   "id": "c9ee46c7",
   "metadata": {},
   "outputs": [
    {
     "data": {
      "text/plain": [
       "'---Data Science'"
      ]
     },
     "execution_count": 18,
     "metadata": {},
     "output_type": "execute_result"
    }
   ],
   "source": [
    "strring = \"Data Science\"\n",
    "strring.rjust(15, '-')  # this allows justification upto 15 characters from right side with '-'"
   ]
  },
  {
   "cell_type": "code",
   "execution_count": 19,
   "id": "e2778b10",
   "metadata": {},
   "outputs": [
    {
     "data": {
      "text/plain": [
       "'Data Science---'"
      ]
     },
     "execution_count": 19,
     "metadata": {},
     "output_type": "execute_result"
    }
   ],
   "source": [
    "strring.ljust(15, '-')   # this allows justification upto 15 characters from left side with '-'"
   ]
  },
  {
   "cell_type": "code",
   "execution_count": 20,
   "id": "7fec10c1",
   "metadata": {},
   "outputs": [
    {
     "data": {
      "text/plain": [
       "'--Data Science-'"
      ]
     },
     "execution_count": 20,
     "metadata": {},
     "output_type": "execute_result"
    }
   ],
   "source": [
    "strring.center(15, '-') # allows us to maintain the strring in center position upto 15 character"
   ]
  },
  {
   "cell_type": "markdown",
   "id": "8d6ee0c9",
   "metadata": {},
   "source": [
    "\n",
    "10. What is the best way to remove whitespace characters from the start or end?\n",
    "\n",
    "Ans:\n",
    "the best way to remove whitespace charcter is using strip method of string which can be done using keywords .lstrip() \n",
    "and .rstrip()\n",
    "\n"
   ]
  },
  {
   "cell_type": "code",
   "execution_count": 22,
   "id": "e17d6e0d",
   "metadata": {},
   "outputs": [
    {
     "data": {
      "text/plain": [
       "'I am Learning Data science   '"
      ]
     },
     "execution_count": 22,
     "metadata": {},
     "output_type": "execute_result"
    }
   ],
   "source": [
    "strring = \"  I am Learning Data science   \"\n",
    "\n",
    "strring.lstrip() # the whitespaces from left side has been removed"
   ]
  },
  {
   "cell_type": "code",
   "execution_count": 23,
   "id": "bd223665",
   "metadata": {},
   "outputs": [
    {
     "data": {
      "text/plain": [
       "'  I am Learning Data science'"
      ]
     },
     "execution_count": 23,
     "metadata": {},
     "output_type": "execute_result"
    }
   ],
   "source": [
    "strring.rstrip() # white spaces removed from right side."
   ]
  },
  {
   "cell_type": "code",
   "execution_count": null,
   "id": "8114df95",
   "metadata": {},
   "outputs": [],
   "source": []
  }
 ],
 "metadata": {
  "kernelspec": {
   "display_name": "Python 3 (ipykernel)",
   "language": "python",
   "name": "python3"
  },
  "language_info": {
   "codemirror_mode": {
    "name": "ipython",
    "version": 3
   },
   "file_extension": ".py",
   "mimetype": "text/x-python",
   "name": "python",
   "nbconvert_exporter": "python",
   "pygments_lexer": "ipython3",
   "version": "3.9.16"
  }
 },
 "nbformat": 4,
 "nbformat_minor": 5
}

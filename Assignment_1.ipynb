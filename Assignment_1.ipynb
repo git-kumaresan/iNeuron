{
 "cells": [
  {
   "cell_type": "markdown",
   "id": "7901bf08",
   "metadata": {},
   "source": [
    "1. In the below elements which of them are values or an expression?\n",
    "eg:- values can be integer or string and expressions will be mathematical operators.\n",
    "* \n",
    "'hello'\n",
    "-87.8\n",
    "-\n",
    "/\n",
    "+\t\n",
    "6 \n",
    "\n",
    "#Answer : \n",
    "Values are 'hello', -87.8, 6 \n",
    "Expressions are *, -, /, +\n"
   ]
  },
  {
   "cell_type": "markdown",
   "id": "0a067e79",
   "metadata": {},
   "source": [
    "2. What is the difference between string and variable?\n",
    "\n",
    "answer :\n",
    "-String is type of variable that contains more than one character. it can be letters, numbers etc.,\n",
    "-Variable is used to store values in programing, the value can be chaged depending on program condition or while assigning value."
   ]
  },
  {
   "cell_type": "markdown",
   "id": "80301f31",
   "metadata": {},
   "source": [
    "3. Describe three different data types.\n",
    "answer\n",
    "\n",
    "Integer (Int) is numerical data type that is as whole number. e.g., 786\n",
    "\n",
    "Float is also numerical datatype that is decimal numbers. e.g., 7.036\n",
    "\n",
    "String(Str) is contains more than one character and same can be combination of letters or alphanumerical .String has to be defined with in ‘single quotes’ or “double quotes”.\n",
    "\n"
   ]
  },
  {
   "cell_type": "markdown",
   "id": "2df02492",
   "metadata": {},
   "source": [
    "4. What is an expression made up of? What do all expressions do?\n",
    "\n",
    "answer.\n",
    "Expression is made of Operators like (+, -, *, /, =) and operands/values.\n",
    "all expressions do operations as per provided operators. E.g. Operator = assigns the value, * is used for multiplication.\n"
   ]
  },
  {
   "cell_type": "markdown",
   "id": "328c5f5b",
   "metadata": {},
   "source": [
    "5. This assignment statements, like spam = 10. What is the difference between an expression and a statement?\n",
    "\n",
    "answer\n",
    "Expression evaluates to a value. e.g. Spam + 1\n",
    "While a statement does something like assignment or any other operations. e.g. Spam =11\n"
   ]
  },
  {
   "cell_type": "markdown",
   "id": "96eabc96",
   "metadata": {},
   "source": [
    "6. After running the following code, what does the variable bacon contain?\n",
    "bacon = 22\n",
    "bacon + 1\n"
   ]
  },
  {
   "cell_type": "code",
   "execution_count": 4,
   "id": "1f4150fa",
   "metadata": {},
   "outputs": [
    {
     "data": {
      "text/plain": [
       "23"
      ]
     },
     "execution_count": 4,
     "metadata": {},
     "output_type": "execute_result"
    }
   ],
   "source": [
    "bacon = 22\n",
    "bacon + 1"
   ]
  },
  {
   "cell_type": "markdown",
   "id": "8c3011c0",
   "metadata": {},
   "source": [
    "answer \n",
    "Bacon contains 23\n",
    "(its 23 as we add 1 to bacon value 22 in the second command)"
   ]
  },
  {
   "cell_type": "markdown",
   "id": "7e153a9e",
   "metadata": {},
   "source": [
    "\n",
    "7. What should the values of the following two terms be?\n",
    "'spam' + 'spamspam'\n",
    "'spam' * 3\n"
   ]
  },
  {
   "cell_type": "code",
   "execution_count": 6,
   "id": "2532b73c",
   "metadata": {},
   "outputs": [
    {
     "data": {
      "text/plain": [
       "'spamspamspam'"
      ]
     },
     "execution_count": 6,
     "metadata": {},
     "output_type": "execute_result"
    }
   ],
   "source": [
    "'spam' + 'spamspam'"
   ]
  },
  {
   "cell_type": "code",
   "execution_count": 7,
   "id": "4369ac62",
   "metadata": {},
   "outputs": [
    {
     "data": {
      "text/plain": [
       "'spamspamspam'"
      ]
     },
     "execution_count": 7,
     "metadata": {},
     "output_type": "execute_result"
    }
   ],
   "source": [
    "'spam' * 3"
   ]
  },
  {
   "cell_type": "markdown",
   "id": "1c5edd82",
   "metadata": {},
   "source": [
    "answer\n",
    "\n",
    "first term adds 'spam' to second value 'spamspam' hence the result will be 'spamspamspam'\n",
    "secondd term multiplies 'spam' into 3 times, hence the result is 'spamspamspam'"
   ]
  },
  {
   "cell_type": "markdown",
   "id": "faf0b9b1",
   "metadata": {},
   "source": [
    "\n",
    "8. Why is eggs a valid variable name while 100 is invalid?\n",
    "\n",
    "answer\n",
    "eggs contains characters and start with a character hence it is valid variable name \n",
    "but 100 is full numerical and not start with character hence it is not valid variable name.\n",
    "\n"
   ]
  },
  {
   "cell_type": "markdown",
   "id": "d17add3e",
   "metadata": {},
   "source": [
    "9. What three functions can be used to get the integer, floating-point number, or string version of a value?\n",
    "\n",
    "answer\n",
    " int() for Interger,\n",
    " float() for Floating-point number,\n",
    " str( ) for String \n"
   ]
  },
  {
   "cell_type": "markdown",
   "id": "45f91b11",
   "metadata": {},
   "source": [
    "\n",
    "10. Why does this expression cause an error? How can you fix it?\n",
    "'I have eaten ' + 99 + ' burritos.'\n"
   ]
  },
  {
   "cell_type": "code",
   "execution_count": 8,
   "id": "6c3e963c",
   "metadata": {},
   "outputs": [
    {
     "ename": "TypeError",
     "evalue": "can only concatenate str (not \"int\") to str",
     "output_type": "error",
     "traceback": [
      "\u001b[1;31m---------------------------------------------------------------------------\u001b[0m",
      "\u001b[1;31mTypeError\u001b[0m                                 Traceback (most recent call last)",
      "Input \u001b[1;32mIn [8]\u001b[0m, in \u001b[0;36m<cell line: 1>\u001b[1;34m()\u001b[0m\n\u001b[1;32m----> 1\u001b[0m \u001b[38;5;124;43m'\u001b[39;49m\u001b[38;5;124;43mI have eaten \u001b[39;49m\u001b[38;5;124;43m'\u001b[39;49m\u001b[43m \u001b[49m\u001b[38;5;241;43m+\u001b[39;49m\u001b[43m \u001b[49m\u001b[38;5;241;43m99\u001b[39;49m \u001b[38;5;241m+\u001b[39m \u001b[38;5;124m'\u001b[39m\u001b[38;5;124m burritos.\u001b[39m\u001b[38;5;124m'\u001b[39m\n",
      "\u001b[1;31mTypeError\u001b[0m: can only concatenate str (not \"int\") to str"
     ]
    }
   ],
   "source": [
    "'I have eaten ' + 99 + ' burritos.'"
   ]
  },
  {
   "cell_type": "markdown",
   "id": "f4ff4b60",
   "metadata": {},
   "source": [
    "answer\n",
    "the concatenation expression can't be done between String and Interger. hence we're getting above error.\n",
    "alternatively we can make the number 99 into String using single/double quotes and perform the expression.\n",
    "like.\n",
    "'I have eaten ' + '99' + ' burritos.'"
   ]
  }
 ],
 "metadata": {
  "kernelspec": {
   "display_name": "Python 3 (ipykernel)",
   "language": "python",
   "name": "python3"
  },
  "language_info": {
   "codemirror_mode": {
    "name": "ipython",
    "version": 3
   },
   "file_extension": ".py",
   "mimetype": "text/x-python",
   "name": "python",
   "nbconvert_exporter": "python",
   "pygments_lexer": "ipython3",
   "version": "3.9.12"
  }
 },
 "nbformat": 4,
 "nbformat_minor": 5
}

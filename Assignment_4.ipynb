{
 "cells": [
  {
   "cell_type": "markdown",
   "id": "1d72a72a",
   "metadata": {},
   "source": [
    "\n",
    "\n",
    "1. What exactly is []?\n",
    "\n",
    "Ans:\n",
    "[] is empty list of any variable that is declared.\n"
   ]
  },
  {
   "cell_type": "markdown",
   "id": "0006c3f9",
   "metadata": {},
   "source": [
    "\n",
    "\n",
    "2. In a list of values stored in a variable called spam, how would you assign the value 'hello' as the third value? (Assume [2, 4, 6, 8, 10] are in spam.)\n",
    "\n",
    "Ans:"
   ]
  },
  {
   "cell_type": "code",
   "execution_count": 1,
   "id": "59792119",
   "metadata": {},
   "outputs": [
    {
     "data": {
      "text/plain": [
       "[2, 4, 'hello', 8, 10]"
      ]
     },
     "execution_count": 1,
     "metadata": {},
     "output_type": "execute_result"
    }
   ],
   "source": [
    "spam = [2,4,6,8,10]\n",
    "\n",
    "#assignment of value 'hello' as third value.\n",
    "spam[2]= 'hello'\n",
    "spam"
   ]
  },
  {
   "cell_type": "markdown",
   "id": "a657bb29",
   "metadata": {},
   "source": [
    "Let's pretend the spam includes the list ['a', 'b', 'c', 'd'] for the next three queries."
   ]
  },
  {
   "cell_type": "code",
   "execution_count": 2,
   "id": "0da74fc6",
   "metadata": {},
   "outputs": [],
   "source": [
    "spam = ['a','b', 'c', 'd']"
   ]
  },
  {
   "cell_type": "markdown",
   "id": "e2c0996f",
   "metadata": {},
   "source": [
    "\n",
    "\n",
    "3. What is the value of spam[int(int('3' * 2) / 11)]?\n"
   ]
  },
  {
   "cell_type": "code",
   "execution_count": 3,
   "id": "a4f12613",
   "metadata": {},
   "outputs": [
    {
     "data": {
      "text/plain": [
       "'d'"
      ]
     },
     "execution_count": 3,
     "metadata": {},
     "output_type": "execute_result"
    }
   ],
   "source": [
    "spam[int(int('3'*2)/11)]"
   ]
  },
  {
   "cell_type": "markdown",
   "id": "ac1075b9",
   "metadata": {},
   "source": [
    "\n",
    "Ans:\n",
    "    the value of spam[int(int('3' * 2) / 11)] is 'd'.\n",
    "    3 is given as string ('3') hence '3'*2 = '33' and int('33') becomes numberical 33.\n",
    "    then 33/11 = 3.\n",
    "    here spam[3] is 'd'. hence trhe answer is 'd'"
   ]
  },
  {
   "cell_type": "markdown",
   "id": "c4d2ff70",
   "metadata": {},
   "source": [
    "\n",
    "\n",
    "4. What is the value of spam[-1]?\n",
    "\n",
    "Ans:\n",
    "    value of spam[-1] is last iterable of spam hence the answer is 'd'.\n",
    "    the value of spam[-1] is 'd'\n"
   ]
  },
  {
   "cell_type": "markdown",
   "id": "071b595e",
   "metadata": {},
   "source": [
    "\n",
    "\n",
    "5. What is the value of spam[:2]?\n",
    "\n",
    "Ans:\n",
    "    the value of spam[:2] would be ['a', 'b']\n",
    "    i.e., index spam 0 to 2, hence spam[0], spam[1] is the answer."
   ]
  },
  {
   "cell_type": "code",
   "execution_count": 5,
   "id": "10cd1297",
   "metadata": {},
   "outputs": [
    {
     "data": {
      "text/plain": [
       "['a', 'b']"
      ]
     },
     "execution_count": 5,
     "metadata": {},
     "output_type": "execute_result"
    }
   ],
   "source": [
    "spam[:2]"
   ]
  },
  {
   "cell_type": "markdown",
   "id": "9db24ca6",
   "metadata": {},
   "source": [
    "\n",
    "\n",
    "Let's pretend bacon has the list [3.14, 'cat,' 11, 'cat,' True] for the next three questions."
   ]
  },
  {
   "cell_type": "code",
   "execution_count": null,
   "id": "04a2f3aa",
   "metadata": {},
   "outputs": [],
   "source": [
    "#note : in above provided list bacon, 'cat' was provided as 'cat,' (invalid syntax error)\n",
    "# however same has been rectified as below list."
   ]
  },
  {
   "cell_type": "code",
   "execution_count": 8,
   "id": "e6ec584b",
   "metadata": {},
   "outputs": [],
   "source": [
    "bacon = [3.14, 'cat', 11, 'cat', True]"
   ]
  },
  {
   "cell_type": "markdown",
   "id": "b1eddd8a",
   "metadata": {},
   "source": [
    "\n",
    "\n",
    "6. What is the value of bacon.index('cat')?\n",
    "\n",
    "Ans:\n",
    "    the value of bacon.index('cat') would be [1] as the program will only consider first occurence of 'cat'.\n"
   ]
  },
  {
   "cell_type": "code",
   "execution_count": 10,
   "id": "b455603d",
   "metadata": {},
   "outputs": [
    {
     "data": {
      "text/plain": [
       "1"
      ]
     },
     "execution_count": 10,
     "metadata": {},
     "output_type": "execute_result"
    }
   ],
   "source": [
    "bacon.index('cat')"
   ]
  },
  {
   "cell_type": "markdown",
   "id": "23bb2b16",
   "metadata": {},
   "source": [
    "\n",
    "\n",
    "7. How does bacon.append(99) change the look of the list value in bacon?\n",
    "\n",
    "Ans:\n",
    "    the append() operation would add 99 into the list by adding at the end of list index.\n",
    "    the lenght of the list will increase from 5 to 6"
   ]
  },
  {
   "cell_type": "code",
   "execution_count": 12,
   "id": "834f000c",
   "metadata": {},
   "outputs": [],
   "source": [
    "bacon.append(99)"
   ]
  },
  {
   "cell_type": "code",
   "execution_count": 14,
   "id": "fa930a67",
   "metadata": {},
   "outputs": [
    {
     "data": {
      "text/plain": [
       "[3.14, 'cat', 11, 'cat', True, 99]"
      ]
     },
     "execution_count": 14,
     "metadata": {},
     "output_type": "execute_result"
    }
   ],
   "source": [
    "bacon"
   ]
  },
  {
   "cell_type": "markdown",
   "id": "a07eed15",
   "metadata": {},
   "source": [
    "\n",
    "\n",
    "8. How does bacon.remove('cat') change the look of the list in bacon?\n",
    "\n",
    "Ans:\n",
    "    the remove() function will remove the 'cat' from the list, noteably removes only the first occurence of 'cat' that is found in the list."
   ]
  },
  {
   "cell_type": "code",
   "execution_count": 15,
   "id": "8b06a4d8",
   "metadata": {},
   "outputs": [],
   "source": [
    "bacon.remove('cat')"
   ]
  },
  {
   "cell_type": "code",
   "execution_count": 16,
   "id": "08cc2cfa",
   "metadata": {},
   "outputs": [
    {
     "data": {
      "text/plain": [
       "[3.14, 11, 'cat', True, 99]"
      ]
     },
     "execution_count": 16,
     "metadata": {},
     "output_type": "execute_result"
    }
   ],
   "source": [
    "bacon"
   ]
  },
  {
   "cell_type": "markdown",
   "id": "7d319b77",
   "metadata": {},
   "source": [
    "\n",
    "\n",
    "9. What are the list concatenation and list replication operators?\n",
    "\n",
    "Ans:\n",
    "    + is the list concatenation operator, \n",
    "    * is the list replication operator (replication of times to be given in numerical values)"
   ]
  },
  {
   "cell_type": "code",
   "execution_count": 18,
   "id": "21129eef",
   "metadata": {},
   "outputs": [
    {
     "data": {
      "text/plain": [
       "['kumar', 'Mani', 'best friends', 'forever']"
      ]
     },
     "execution_count": 18,
     "metadata": {},
     "output_type": "execute_result"
    }
   ],
   "source": [
    "list1 = [\"kumar\", \"Mani\"]\n",
    "list2 = [\"best friends\", 'forever']\n",
    "#concatenation operation\n",
    "list3 = list1 + list2\n",
    "\n",
    "list3"
   ]
  },
  {
   "cell_type": "code",
   "execution_count": 24,
   "id": "4aba727a",
   "metadata": {},
   "outputs": [
    {
     "data": {
      "text/plain": [
       "['kumar', 'Mani', 'kumar', 'Mani']"
      ]
     },
     "execution_count": 24,
     "metadata": {},
     "output_type": "execute_result"
    }
   ],
   "source": [
    "#multiplication operation\n",
    "list4 = list1*2\n",
    "list4"
   ]
  },
  {
   "cell_type": "markdown",
   "id": "02ef5c42",
   "metadata": {},
   "source": [
    "\n",
    "\n",
    "10. What is difference between the list methods append() and insert()?\n",
    "\n",
    "Ans:\n",
    "    append() function adds the value into the list at last position.\n",
    "    insert() function inserts the value into specified index of the list. "
   ]
  },
  {
   "cell_type": "code",
   "execution_count": 29,
   "id": "22341f7f",
   "metadata": {},
   "outputs": [
    {
     "data": {
      "text/plain": [
       "[0, 1, 2, 3, 4, 5, 'append operation']"
      ]
     },
     "execution_count": 29,
     "metadata": {},
     "output_type": "execute_result"
    }
   ],
   "source": [
    "l = [0,1,2,3,4,5]\n",
    "l.append(\"append operation\")\n",
    "l"
   ]
  },
  {
   "cell_type": "code",
   "execution_count": 30,
   "id": "ea547fce",
   "metadata": {},
   "outputs": [
    {
     "data": {
      "text/plain": [
       "[0, 1, 2, 'insert operation', 3, 4, 5, 'append operation']"
      ]
     },
     "execution_count": 30,
     "metadata": {},
     "output_type": "execute_result"
    }
   ],
   "source": [
    "l.insert(3, 'insert operation')\n",
    "l"
   ]
  },
  {
   "cell_type": "markdown",
   "id": "b288f7f0",
   "metadata": {},
   "source": [
    "\n",
    "\n",
    "11. What are the two methods for removing items from a list?\n",
    "\n",
    "Ans:\n",
    "    the items in list can be removed using inbuild pop() function of list (removes last element of list).\n",
    "    also remove() function can be used to remove the specified item on list.\n",
    "    del() also can be used to delete the items based on the index number.\n",
    "    "
   ]
  },
  {
   "cell_type": "code",
   "execution_count": 42,
   "id": "b70cef52",
   "metadata": {},
   "outputs": [
    {
     "data": {
      "text/plain": [
       "[0, 4, 1, 3, 1, 2, 4, 'insert operation', 3, 4, 5]"
      ]
     },
     "execution_count": 42,
     "metadata": {},
     "output_type": "execute_result"
    }
   ],
   "source": [
    "l =[0, 4, 1,3,1, 2,4, 'insert operation', 3, 4, 5, 'append operation']\n",
    "\n",
    "# using pop() function to remove last element.\n",
    "l.pop()\n",
    "l"
   ]
  },
  {
   "cell_type": "code",
   "execution_count": 43,
   "id": "c6bd8529",
   "metadata": {},
   "outputs": [
    {
     "data": {
      "text/plain": [
       "[0, 4, 3, 1, 2, 4, 'insert operation', 3, 4, 5]"
      ]
     },
     "execution_count": 43,
     "metadata": {},
     "output_type": "execute_result"
    }
   ],
   "source": [
    "# using remove() function to removed specified element(only the first occurence would be removed)\n",
    "l.remove(1)\n",
    "l"
   ]
  },
  {
   "cell_type": "code",
   "execution_count": 44,
   "id": "88fe1a2f",
   "metadata": {},
   "outputs": [
    {
     "data": {
      "text/plain": [
       "[0, 4, 3, 1, 2, 4, 3, 4, 5]"
      ]
     },
     "execution_count": 44,
     "metadata": {},
     "output_type": "execute_result"
    }
   ],
   "source": [
    "#using del() function to delete the items based on index\n",
    "del l[6]\n",
    "l"
   ]
  },
  {
   "cell_type": "markdown",
   "id": "2760a9f0",
   "metadata": {},
   "source": [
    "\n",
    "\n",
    "12. Describe how list values and string values are identical.\n",
    "\n",
    "Ans:\n",
    "    both list values and string values are identical as both are mutables, can be sliced, concatenated, replicated and assign new elements at specified index. Also length can be identified using len() function on both.\n",
    "    "
   ]
  },
  {
   "cell_type": "markdown",
   "id": "7991eea7",
   "metadata": {},
   "source": [
    "\n",
    "\n",
    "13. What's the difference between tuples and lists?\n",
    "Ans:\n",
    "    lists elements are mutable while tuple elements are immutable.\n",
    "    tuples represented in () while list represented in []\n",
    "    \n"
   ]
  },
  {
   "cell_type": "markdown",
   "id": "20d8aa44",
   "metadata": {},
   "source": [
    "\n",
    "\n",
    "14. How do you type a tuple value that only contains the integer 42?\n",
    "\n",
    "Ans: \n",
    "    the integer 42 has to be typed followed by comma , else the python would take the tuple as normal variable declaration.\n",
    "    "
   ]
  },
  {
   "cell_type": "code",
   "execution_count": 46,
   "id": "91aed767",
   "metadata": {},
   "outputs": [
    {
     "data": {
      "text/plain": [
       "tuple"
      ]
     },
     "execution_count": 46,
     "metadata": {},
     "output_type": "execute_result"
    }
   ],
   "source": [
    "tuple1= (42,)\n",
    "type(tuple1)"
   ]
  },
  {
   "cell_type": "markdown",
   "id": "232de828",
   "metadata": {},
   "source": [
    "\n",
    "\n",
    "15. How do you get a list value's tuple form? How do you get a tuple value's list form?\n",
    "\n",
    "Ans:\n",
    "the list can be converted into tuple using tuple() function and the tuple can be converted into list using list() function.\n"
   ]
  },
  {
   "cell_type": "code",
   "execution_count": 50,
   "id": "79ce23cf",
   "metadata": {},
   "outputs": [
    {
     "data": {
      "text/plain": [
       "list"
      ]
     },
     "execution_count": 50,
     "metadata": {},
     "output_type": "execute_result"
    }
   ],
   "source": [
    "tuple1 =(42,45,22)\n",
    "converted_list = list(tuple1)\n",
    "type(converted_list)"
   ]
  },
  {
   "cell_type": "markdown",
   "id": "abde1916",
   "metadata": {},
   "source": [
    "\n",
    "\n",
    "16. Variables that \"contain\" list values are not necessarily lists themselves. Instead, what do they contain?\n",
    "\n",
    "Ans:\n",
    "    They contain references to list values"
   ]
  },
  {
   "cell_type": "markdown",
   "id": "0358fb3f",
   "metadata": {},
   "source": [
    "\n",
    "\n",
    "17. How do you distinguish between copy.copy() and copy.deepcopy()?\n",
    "\n",
    "Ans:\n",
    "    "
   ]
  }
 ],
 "metadata": {
  "kernelspec": {
   "display_name": "Python 3 (ipykernel)",
   "language": "python",
   "name": "python3"
  },
  "language_info": {
   "codemirror_mode": {
    "name": "ipython",
    "version": 3
   },
   "file_extension": ".py",
   "mimetype": "text/x-python",
   "name": "python",
   "nbconvert_exporter": "python",
   "pygments_lexer": "ipython3",
   "version": "3.9.12"
  }
 },
 "nbformat": 4,
 "nbformat_minor": 5
}
